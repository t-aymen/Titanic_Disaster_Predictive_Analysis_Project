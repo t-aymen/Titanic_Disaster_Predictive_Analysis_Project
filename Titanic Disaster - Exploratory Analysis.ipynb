{
 "cells": [
  {
   "cell_type": "markdown",
   "metadata": {},
   "source": [
    "# Titanic Disaster (Part I) - Exploratory Analysis"
   ]
  },
  {
   "cell_type": "markdown",
   "metadata": {},
   "source": [
    "![](titanic.png)"
   ]
  },
  {
   "cell_type": "markdown",
   "metadata": {},
   "source": [
    "## Content Overview\n",
    "\n",
    "1. Context and Scope\n",
    "2. Project Data\n",
    "3. Data Exploration (Part I)\n",
    "4. Modelling & Predictive Analysis (Part II)\n",
    "5. Experimentation & Evaluation"
   ]
  },
  {
   "cell_type": "markdown",
   "metadata": {},
   "source": [
    "## 1. Context and Scope "
   ]
  },
  {
   "cell_type": "markdown",
   "metadata": {},
   "source": [
    "This analysis project aims to build a machine learning model that predicts the survivability rate of passengers abroad the infamous Titanic."
   ]
  },
  {
   "cell_type": "markdown",
   "metadata": {},
   "source": [
    "<b>About the incident</b>\n",
    "\n",
    "On April 15, 1912, during her maiden voyage, the widely considered “unsinkable” RMS Titanic sank after colliding with an iceberg. Unfortunately, there weren’t enough lifeboats for everyone onboard, resulting in the death of 1502 out of 2224 passengers and crew.\r\n",
    "\r\n",
    "While there was some element of luck involved in surviving, it seems some groups of people were more likely to survive than others."
   ]
  },
  {
   "cell_type": "markdown",
   "metadata": {},
   "source": [
    "## 2. Project Data"
   ]
  },
  {
   "cell_type": "markdown",
   "metadata": {},
   "source": [
    "The Titanic dataset is provived by Kaggle as part of the <b>Titanic - Machine Learning from Disaster </b> competition, in the form of `train` and `test` sets.\n",
    "\n",
    "* `Train.csv` contains the details of a subset of the passengers on board (891 to be exact) including features such as gender, age, accompanying siblings and parents, and most importantly, a target labels reveal specifying whether they survived or not, also known as the 'ground truth' labels.\n",
    "* `test.csv` contains similar information but does not disclose the ground truth labels for passengers.\n",
    "\n",
    "For more information, please visit: https://www.kaggle.com/competitions/titanic/overview"
   ]
  },
  {
   "cell_type": "markdown",
   "metadata": {},
   "source": [
    "## 3. Data Exploration"
   ]
  },
  {
   "cell_type": "markdown",
   "metadata": {},
   "source": [
    "#### Import Tools & Data"
   ]
  },
  {
   "cell_type": "code",
   "execution_count": 1,
   "metadata": {},
   "outputs": [],
   "source": [
    "import pandas as pd\n",
    "import numpy as np\n",
    "import matplotlib.pyplot as plt"
   ]
  },
  {
   "cell_type": "code",
   "execution_count": 2,
   "metadata": {},
   "outputs": [
    {
     "data": {
      "text/html": [
       "<div>\n",
       "<style scoped>\n",
       "    .dataframe tbody tr th:only-of-type {\n",
       "        vertical-align: middle;\n",
       "    }\n",
       "\n",
       "    .dataframe tbody tr th {\n",
       "        vertical-align: top;\n",
       "    }\n",
       "\n",
       "    .dataframe thead th {\n",
       "        text-align: right;\n",
       "    }\n",
       "</style>\n",
       "<table border=\"1\" class=\"dataframe\">\n",
       "  <thead>\n",
       "    <tr style=\"text-align: right;\">\n",
       "      <th></th>\n",
       "      <th>PassengerId</th>\n",
       "      <th>Survived</th>\n",
       "      <th>Pclass</th>\n",
       "      <th>Name</th>\n",
       "      <th>Sex</th>\n",
       "      <th>Age</th>\n",
       "      <th>SibSp</th>\n",
       "      <th>Parch</th>\n",
       "      <th>Ticket</th>\n",
       "      <th>Fare</th>\n",
       "      <th>Cabin</th>\n",
       "      <th>Embarked</th>\n",
       "    </tr>\n",
       "  </thead>\n",
       "  <tbody>\n",
       "    <tr>\n",
       "      <th>0</th>\n",
       "      <td>1</td>\n",
       "      <td>0</td>\n",
       "      <td>3</td>\n",
       "      <td>Braund, Mr. Owen Harris</td>\n",
       "      <td>male</td>\n",
       "      <td>22.0</td>\n",
       "      <td>1</td>\n",
       "      <td>0</td>\n",
       "      <td>A/5 21171</td>\n",
       "      <td>7.2500</td>\n",
       "      <td>NaN</td>\n",
       "      <td>S</td>\n",
       "    </tr>\n",
       "    <tr>\n",
       "      <th>1</th>\n",
       "      <td>2</td>\n",
       "      <td>1</td>\n",
       "      <td>1</td>\n",
       "      <td>Cumings, Mrs. John Bradley (Florence Briggs Th...</td>\n",
       "      <td>female</td>\n",
       "      <td>38.0</td>\n",
       "      <td>1</td>\n",
       "      <td>0</td>\n",
       "      <td>PC 17599</td>\n",
       "      <td>71.2833</td>\n",
       "      <td>C85</td>\n",
       "      <td>C</td>\n",
       "    </tr>\n",
       "    <tr>\n",
       "      <th>2</th>\n",
       "      <td>3</td>\n",
       "      <td>1</td>\n",
       "      <td>3</td>\n",
       "      <td>Heikkinen, Miss. Laina</td>\n",
       "      <td>female</td>\n",
       "      <td>26.0</td>\n",
       "      <td>0</td>\n",
       "      <td>0</td>\n",
       "      <td>STON/O2. 3101282</td>\n",
       "      <td>7.9250</td>\n",
       "      <td>NaN</td>\n",
       "      <td>S</td>\n",
       "    </tr>\n",
       "    <tr>\n",
       "      <th>3</th>\n",
       "      <td>4</td>\n",
       "      <td>1</td>\n",
       "      <td>1</td>\n",
       "      <td>Futrelle, Mrs. Jacques Heath (Lily May Peel)</td>\n",
       "      <td>female</td>\n",
       "      <td>35.0</td>\n",
       "      <td>1</td>\n",
       "      <td>0</td>\n",
       "      <td>113803</td>\n",
       "      <td>53.1000</td>\n",
       "      <td>C123</td>\n",
       "      <td>S</td>\n",
       "    </tr>\n",
       "    <tr>\n",
       "      <th>4</th>\n",
       "      <td>5</td>\n",
       "      <td>0</td>\n",
       "      <td>3</td>\n",
       "      <td>Allen, Mr. William Henry</td>\n",
       "      <td>male</td>\n",
       "      <td>35.0</td>\n",
       "      <td>0</td>\n",
       "      <td>0</td>\n",
       "      <td>373450</td>\n",
       "      <td>8.0500</td>\n",
       "      <td>NaN</td>\n",
       "      <td>S</td>\n",
       "    </tr>\n",
       "  </tbody>\n",
       "</table>\n",
       "</div>"
      ],
      "text/plain": [
       "   PassengerId  Survived  Pclass  \\\n",
       "0            1         0       3   \n",
       "1            2         1       1   \n",
       "2            3         1       3   \n",
       "3            4         1       1   \n",
       "4            5         0       3   \n",
       "\n",
       "                                                Name     Sex   Age  SibSp  \\\n",
       "0                            Braund, Mr. Owen Harris    male  22.0      1   \n",
       "1  Cumings, Mrs. John Bradley (Florence Briggs Th...  female  38.0      1   \n",
       "2                             Heikkinen, Miss. Laina  female  26.0      0   \n",
       "3       Futrelle, Mrs. Jacques Heath (Lily May Peel)  female  35.0      1   \n",
       "4                           Allen, Mr. William Henry    male  35.0      0   \n",
       "\n",
       "   Parch            Ticket     Fare Cabin Embarked  \n",
       "0      0         A/5 21171   7.2500   NaN        S  \n",
       "1      0          PC 17599  71.2833   C85        C  \n",
       "2      0  STON/O2. 3101282   7.9250   NaN        S  \n",
       "3      0            113803  53.1000  C123        S  \n",
       "4      0            373450   8.0500   NaN        S  "
      ]
     },
     "execution_count": 2,
     "metadata": {},
     "output_type": "execute_result"
    }
   ],
   "source": [
    "df = pd.read_csv('Data/train_data.csv')\n",
    "df.head()"
   ]
  },
  {
   "cell_type": "code",
   "execution_count": 3,
   "metadata": {},
   "outputs": [
    {
     "data": {
      "text/plain": [
       "(891, 12)"
      ]
     },
     "execution_count": 3,
     "metadata": {},
     "output_type": "execute_result"
    }
   ],
   "source": [
    "# Checking dimensions\n",
    "df.shape"
   ]
  },
  {
   "cell_type": "code",
   "execution_count": 4,
   "metadata": {},
   "outputs": [
    {
     "name": "stdout",
     "output_type": "stream",
     "text": [
      "<class 'pandas.core.frame.DataFrame'>\n",
      "RangeIndex: 891 entries, 0 to 890\n",
      "Data columns (total 12 columns):\n",
      " #   Column       Non-Null Count  Dtype  \n",
      "---  ------       --------------  -----  \n",
      " 0   PassengerId  891 non-null    int64  \n",
      " 1   Survived     891 non-null    int64  \n",
      " 2   Pclass       891 non-null    int64  \n",
      " 3   Name         891 non-null    object \n",
      " 4   Sex          891 non-null    object \n",
      " 5   Age          714 non-null    float64\n",
      " 6   SibSp        891 non-null    int64  \n",
      " 7   Parch        891 non-null    int64  \n",
      " 8   Ticket       891 non-null    object \n",
      " 9   Fare         891 non-null    float64\n",
      " 10  Cabin        204 non-null    object \n",
      " 11  Embarked     889 non-null    object \n",
      "dtypes: float64(2), int64(5), object(5)\n",
      "memory usage: 83.7+ KB\n"
     ]
    }
   ],
   "source": [
    "# Checking columns datatypes\n",
    "df.info()"
   ]
  },
  {
   "cell_type": "code",
   "execution_count": 5,
   "metadata": {},
   "outputs": [
    {
     "data": {
      "text/plain": [
       "PassengerId      0\n",
       "Survived         0\n",
       "Pclass           0\n",
       "Name             0\n",
       "Sex              0\n",
       "Age            177\n",
       "SibSp            0\n",
       "Parch            0\n",
       "Ticket           0\n",
       "Fare             0\n",
       "Cabin          687\n",
       "Embarked         2\n",
       "dtype: int64"
      ]
     },
     "execution_count": 5,
     "metadata": {},
     "output_type": "execute_result"
    }
   ],
   "source": [
    "# Checking for missing values\n",
    "df.isna().sum()"
   ]
  },
  {
   "cell_type": "code",
   "execution_count": 6,
   "metadata": {},
   "outputs": [
    {
     "data": {
      "text/plain": [
       "0"
      ]
     },
     "execution_count": 6,
     "metadata": {},
     "output_type": "execute_result"
    }
   ],
   "source": [
    "# Checking for duplicates\n",
    "df.duplicated().sum()"
   ]
  },
  {
   "cell_type": "code",
   "execution_count": 7,
   "metadata": {},
   "outputs": [
    {
     "data": {
      "text/html": [
       "<div>\n",
       "<style scoped>\n",
       "    .dataframe tbody tr th:only-of-type {\n",
       "        vertical-align: middle;\n",
       "    }\n",
       "\n",
       "    .dataframe tbody tr th {\n",
       "        vertical-align: top;\n",
       "    }\n",
       "\n",
       "    .dataframe thead th {\n",
       "        text-align: right;\n",
       "    }\n",
       "</style>\n",
       "<table border=\"1\" class=\"dataframe\">\n",
       "  <thead>\n",
       "    <tr style=\"text-align: right;\">\n",
       "      <th></th>\n",
       "      <th>count</th>\n",
       "      <th>mean</th>\n",
       "      <th>std</th>\n",
       "      <th>min</th>\n",
       "      <th>25%</th>\n",
       "      <th>50%</th>\n",
       "      <th>75%</th>\n",
       "      <th>max</th>\n",
       "    </tr>\n",
       "  </thead>\n",
       "  <tbody>\n",
       "    <tr>\n",
       "      <th>PassengerId</th>\n",
       "      <td>891.0</td>\n",
       "      <td>446.000000</td>\n",
       "      <td>257.353842</td>\n",
       "      <td>1.00</td>\n",
       "      <td>223.5000</td>\n",
       "      <td>446.0000</td>\n",
       "      <td>668.5</td>\n",
       "      <td>891.0000</td>\n",
       "    </tr>\n",
       "    <tr>\n",
       "      <th>Survived</th>\n",
       "      <td>891.0</td>\n",
       "      <td>0.383838</td>\n",
       "      <td>0.486592</td>\n",
       "      <td>0.00</td>\n",
       "      <td>0.0000</td>\n",
       "      <td>0.0000</td>\n",
       "      <td>1.0</td>\n",
       "      <td>1.0000</td>\n",
       "    </tr>\n",
       "    <tr>\n",
       "      <th>Pclass</th>\n",
       "      <td>891.0</td>\n",
       "      <td>2.308642</td>\n",
       "      <td>0.836071</td>\n",
       "      <td>1.00</td>\n",
       "      <td>2.0000</td>\n",
       "      <td>3.0000</td>\n",
       "      <td>3.0</td>\n",
       "      <td>3.0000</td>\n",
       "    </tr>\n",
       "    <tr>\n",
       "      <th>Age</th>\n",
       "      <td>714.0</td>\n",
       "      <td>29.699118</td>\n",
       "      <td>14.526497</td>\n",
       "      <td>0.42</td>\n",
       "      <td>20.1250</td>\n",
       "      <td>28.0000</td>\n",
       "      <td>38.0</td>\n",
       "      <td>80.0000</td>\n",
       "    </tr>\n",
       "    <tr>\n",
       "      <th>SibSp</th>\n",
       "      <td>891.0</td>\n",
       "      <td>0.523008</td>\n",
       "      <td>1.102743</td>\n",
       "      <td>0.00</td>\n",
       "      <td>0.0000</td>\n",
       "      <td>0.0000</td>\n",
       "      <td>1.0</td>\n",
       "      <td>8.0000</td>\n",
       "    </tr>\n",
       "    <tr>\n",
       "      <th>Parch</th>\n",
       "      <td>891.0</td>\n",
       "      <td>0.381594</td>\n",
       "      <td>0.806057</td>\n",
       "      <td>0.00</td>\n",
       "      <td>0.0000</td>\n",
       "      <td>0.0000</td>\n",
       "      <td>0.0</td>\n",
       "      <td>6.0000</td>\n",
       "    </tr>\n",
       "    <tr>\n",
       "      <th>Fare</th>\n",
       "      <td>891.0</td>\n",
       "      <td>32.204208</td>\n",
       "      <td>49.693429</td>\n",
       "      <td>0.00</td>\n",
       "      <td>7.9104</td>\n",
       "      <td>14.4542</td>\n",
       "      <td>31.0</td>\n",
       "      <td>512.3292</td>\n",
       "    </tr>\n",
       "  </tbody>\n",
       "</table>\n",
       "</div>"
      ],
      "text/plain": [
       "             count        mean         std   min       25%       50%    75%  \\\n",
       "PassengerId  891.0  446.000000  257.353842  1.00  223.5000  446.0000  668.5   \n",
       "Survived     891.0    0.383838    0.486592  0.00    0.0000    0.0000    1.0   \n",
       "Pclass       891.0    2.308642    0.836071  1.00    2.0000    3.0000    3.0   \n",
       "Age          714.0   29.699118   14.526497  0.42   20.1250   28.0000   38.0   \n",
       "SibSp        891.0    0.523008    1.102743  0.00    0.0000    0.0000    1.0   \n",
       "Parch        891.0    0.381594    0.806057  0.00    0.0000    0.0000    0.0   \n",
       "Fare         891.0   32.204208   49.693429  0.00    7.9104   14.4542   31.0   \n",
       "\n",
       "                  max  \n",
       "PassengerId  891.0000  \n",
       "Survived       1.0000  \n",
       "Pclass         3.0000  \n",
       "Age           80.0000  \n",
       "SibSp          8.0000  \n",
       "Parch          6.0000  \n",
       "Fare         512.3292  "
      ]
     },
     "execution_count": 7,
     "metadata": {},
     "output_type": "execute_result"
    }
   ],
   "source": [
    "# Basic descriptive statistics (numerical)\n",
    "df.describe().T"
   ]
  },
  {
   "cell_type": "code",
   "execution_count": 8,
   "metadata": {},
   "outputs": [
    {
     "data": {
      "text/html": [
       "<div>\n",
       "<style scoped>\n",
       "    .dataframe tbody tr th:only-of-type {\n",
       "        vertical-align: middle;\n",
       "    }\n",
       "\n",
       "    .dataframe tbody tr th {\n",
       "        vertical-align: top;\n",
       "    }\n",
       "\n",
       "    .dataframe thead th {\n",
       "        text-align: right;\n",
       "    }\n",
       "</style>\n",
       "<table border=\"1\" class=\"dataframe\">\n",
       "  <thead>\n",
       "    <tr style=\"text-align: right;\">\n",
       "      <th></th>\n",
       "      <th>count</th>\n",
       "      <th>unique</th>\n",
       "      <th>top</th>\n",
       "      <th>freq</th>\n",
       "    </tr>\n",
       "  </thead>\n",
       "  <tbody>\n",
       "    <tr>\n",
       "      <th>Name</th>\n",
       "      <td>891</td>\n",
       "      <td>891</td>\n",
       "      <td>Braund, Mr. Owen Harris</td>\n",
       "      <td>1</td>\n",
       "    </tr>\n",
       "    <tr>\n",
       "      <th>Sex</th>\n",
       "      <td>891</td>\n",
       "      <td>2</td>\n",
       "      <td>male</td>\n",
       "      <td>577</td>\n",
       "    </tr>\n",
       "    <tr>\n",
       "      <th>Ticket</th>\n",
       "      <td>891</td>\n",
       "      <td>681</td>\n",
       "      <td>347082</td>\n",
       "      <td>7</td>\n",
       "    </tr>\n",
       "    <tr>\n",
       "      <th>Cabin</th>\n",
       "      <td>204</td>\n",
       "      <td>147</td>\n",
       "      <td>B96 B98</td>\n",
       "      <td>4</td>\n",
       "    </tr>\n",
       "    <tr>\n",
       "      <th>Embarked</th>\n",
       "      <td>889</td>\n",
       "      <td>3</td>\n",
       "      <td>S</td>\n",
       "      <td>644</td>\n",
       "    </tr>\n",
       "  </tbody>\n",
       "</table>\n",
       "</div>"
      ],
      "text/plain": [
       "         count unique                      top freq\n",
       "Name       891    891  Braund, Mr. Owen Harris    1\n",
       "Sex        891      2                     male  577\n",
       "Ticket     891    681                   347082    7\n",
       "Cabin      204    147                  B96 B98    4\n",
       "Embarked   889      3                        S  644"
      ]
     },
     "execution_count": 8,
     "metadata": {},
     "output_type": "execute_result"
    }
   ],
   "source": [
    "# Basic descriptive statistics (categorical)\n",
    "categories = df.dtypes[df.dtypes == 'object'].index\n",
    "df[categories].describe().T"
   ]
  },
  {
   "cell_type": "code",
   "execution_count": 9,
   "metadata": {},
   "outputs": [
    {
     "data": {
      "text/html": [
       "<div>\n",
       "<style scoped>\n",
       "    .dataframe tbody tr th:only-of-type {\n",
       "        vertical-align: middle;\n",
       "    }\n",
       "\n",
       "    .dataframe tbody tr th {\n",
       "        vertical-align: top;\n",
       "    }\n",
       "\n",
       "    .dataframe thead th {\n",
       "        text-align: right;\n",
       "    }\n",
       "</style>\n",
       "<table border=\"1\" class=\"dataframe\">\n",
       "  <thead>\n",
       "    <tr style=\"text-align: right;\">\n",
       "      <th></th>\n",
       "      <th>PassengerId</th>\n",
       "      <th>Survived</th>\n",
       "      <th>Pclass</th>\n",
       "      <th>Name</th>\n",
       "      <th>Sex</th>\n",
       "      <th>Age</th>\n",
       "      <th>SibSp</th>\n",
       "      <th>Parch</th>\n",
       "      <th>Ticket</th>\n",
       "      <th>Fare</th>\n",
       "      <th>Cabin</th>\n",
       "      <th>Embarked</th>\n",
       "    </tr>\n",
       "  </thead>\n",
       "  <tbody>\n",
       "    <tr>\n",
       "      <th>0</th>\n",
       "      <td>1</td>\n",
       "      <td>0</td>\n",
       "      <td>3</td>\n",
       "      <td>Braund, Mr. Owen Harris</td>\n",
       "      <td>male</td>\n",
       "      <td>22.0</td>\n",
       "      <td>1</td>\n",
       "      <td>0</td>\n",
       "      <td>A/5 21171</td>\n",
       "      <td>7.2500</td>\n",
       "      <td>NaN</td>\n",
       "      <td>S</td>\n",
       "    </tr>\n",
       "    <tr>\n",
       "      <th>1</th>\n",
       "      <td>2</td>\n",
       "      <td>1</td>\n",
       "      <td>1</td>\n",
       "      <td>Cumings, Mrs. John Bradley (Florence Briggs Th...</td>\n",
       "      <td>female</td>\n",
       "      <td>38.0</td>\n",
       "      <td>1</td>\n",
       "      <td>0</td>\n",
       "      <td>PC 17599</td>\n",
       "      <td>71.2833</td>\n",
       "      <td>C85</td>\n",
       "      <td>C</td>\n",
       "    </tr>\n",
       "    <tr>\n",
       "      <th>2</th>\n",
       "      <td>3</td>\n",
       "      <td>1</td>\n",
       "      <td>3</td>\n",
       "      <td>Heikkinen, Miss. Laina</td>\n",
       "      <td>female</td>\n",
       "      <td>26.0</td>\n",
       "      <td>0</td>\n",
       "      <td>0</td>\n",
       "      <td>STON/O2. 3101282</td>\n",
       "      <td>7.9250</td>\n",
       "      <td>NaN</td>\n",
       "      <td>S</td>\n",
       "    </tr>\n",
       "    <tr>\n",
       "      <th>3</th>\n",
       "      <td>4</td>\n",
       "      <td>1</td>\n",
       "      <td>1</td>\n",
       "      <td>Futrelle, Mrs. Jacques Heath (Lily May Peel)</td>\n",
       "      <td>female</td>\n",
       "      <td>35.0</td>\n",
       "      <td>1</td>\n",
       "      <td>0</td>\n",
       "      <td>113803</td>\n",
       "      <td>53.1000</td>\n",
       "      <td>C123</td>\n",
       "      <td>S</td>\n",
       "    </tr>\n",
       "    <tr>\n",
       "      <th>4</th>\n",
       "      <td>5</td>\n",
       "      <td>0</td>\n",
       "      <td>3</td>\n",
       "      <td>Allen, Mr. William Henry</td>\n",
       "      <td>male</td>\n",
       "      <td>35.0</td>\n",
       "      <td>0</td>\n",
       "      <td>0</td>\n",
       "      <td>373450</td>\n",
       "      <td>8.0500</td>\n",
       "      <td>NaN</td>\n",
       "      <td>S</td>\n",
       "    </tr>\n",
       "  </tbody>\n",
       "</table>\n",
       "</div>"
      ],
      "text/plain": [
       "   PassengerId  Survived  Pclass  \\\n",
       "0            1         0       3   \n",
       "1            2         1       1   \n",
       "2            3         1       3   \n",
       "3            4         1       1   \n",
       "4            5         0       3   \n",
       "\n",
       "                                                Name     Sex   Age  SibSp  \\\n",
       "0                            Braund, Mr. Owen Harris    male  22.0      1   \n",
       "1  Cumings, Mrs. John Bradley (Florence Briggs Th...  female  38.0      1   \n",
       "2                             Heikkinen, Miss. Laina  female  26.0      0   \n",
       "3       Futrelle, Mrs. Jacques Heath (Lily May Peel)  female  35.0      1   \n",
       "4                           Allen, Mr. William Henry    male  35.0      0   \n",
       "\n",
       "   Parch            Ticket     Fare Cabin Embarked  \n",
       "0      0         A/5 21171   7.2500   NaN        S  \n",
       "1      0          PC 17599  71.2833   C85        C  \n",
       "2      0  STON/O2. 3101282   7.9250   NaN        S  \n",
       "3      0            113803  53.1000  C123        S  \n",
       "4      0            373450   8.0500   NaN        S  "
      ]
     },
     "execution_count": 9,
     "metadata": {},
     "output_type": "execute_result"
    }
   ],
   "source": [
    "df.head()"
   ]
  },
  {
   "cell_type": "code",
   "execution_count": 10,
   "metadata": {},
   "outputs": [
    {
     "data": {
      "text/html": [
       "<div>\n",
       "<style scoped>\n",
       "    .dataframe tbody tr th:only-of-type {\n",
       "        vertical-align: middle;\n",
       "    }\n",
       "\n",
       "    .dataframe tbody tr th {\n",
       "        vertical-align: top;\n",
       "    }\n",
       "\n",
       "    .dataframe thead th {\n",
       "        text-align: right;\n",
       "    }\n",
       "</style>\n",
       "<table border=\"1\" class=\"dataframe\">\n",
       "  <thead>\n",
       "    <tr style=\"text-align: right;\">\n",
       "      <th></th>\n",
       "      <th>PassengerId</th>\n",
       "      <th>Survived</th>\n",
       "      <th>Pclass</th>\n",
       "      <th>Sex</th>\n",
       "      <th>Age</th>\n",
       "      <th>SibSp</th>\n",
       "      <th>Parch</th>\n",
       "      <th>Fare</th>\n",
       "      <th>Embarked</th>\n",
       "    </tr>\n",
       "  </thead>\n",
       "  <tbody>\n",
       "    <tr>\n",
       "      <th>0</th>\n",
       "      <td>1</td>\n",
       "      <td>0</td>\n",
       "      <td>3</td>\n",
       "      <td>male</td>\n",
       "      <td>22.0</td>\n",
       "      <td>1</td>\n",
       "      <td>0</td>\n",
       "      <td>7.2500</td>\n",
       "      <td>S</td>\n",
       "    </tr>\n",
       "    <tr>\n",
       "      <th>1</th>\n",
       "      <td>2</td>\n",
       "      <td>1</td>\n",
       "      <td>1</td>\n",
       "      <td>female</td>\n",
       "      <td>38.0</td>\n",
       "      <td>1</td>\n",
       "      <td>0</td>\n",
       "      <td>71.2833</td>\n",
       "      <td>C</td>\n",
       "    </tr>\n",
       "    <tr>\n",
       "      <th>2</th>\n",
       "      <td>3</td>\n",
       "      <td>1</td>\n",
       "      <td>3</td>\n",
       "      <td>female</td>\n",
       "      <td>26.0</td>\n",
       "      <td>0</td>\n",
       "      <td>0</td>\n",
       "      <td>7.9250</td>\n",
       "      <td>S</td>\n",
       "    </tr>\n",
       "    <tr>\n",
       "      <th>3</th>\n",
       "      <td>4</td>\n",
       "      <td>1</td>\n",
       "      <td>1</td>\n",
       "      <td>female</td>\n",
       "      <td>35.0</td>\n",
       "      <td>1</td>\n",
       "      <td>0</td>\n",
       "      <td>53.1000</td>\n",
       "      <td>S</td>\n",
       "    </tr>\n",
       "    <tr>\n",
       "      <th>4</th>\n",
       "      <td>5</td>\n",
       "      <td>0</td>\n",
       "      <td>3</td>\n",
       "      <td>male</td>\n",
       "      <td>35.0</td>\n",
       "      <td>0</td>\n",
       "      <td>0</td>\n",
       "      <td>8.0500</td>\n",
       "      <td>S</td>\n",
       "    </tr>\n",
       "  </tbody>\n",
       "</table>\n",
       "</div>"
      ],
      "text/plain": [
       "   PassengerId  Survived  Pclass     Sex   Age  SibSp  Parch     Fare Embarked\n",
       "0            1         0       3    male  22.0      1      0   7.2500        S\n",
       "1            2         1       1  female  38.0      1      0  71.2833        C\n",
       "2            3         1       3  female  26.0      0      0   7.9250        S\n",
       "3            4         1       1  female  35.0      1      0  53.1000        S\n",
       "4            5         0       3    male  35.0      0      0   8.0500        S"
      ]
     },
     "execution_count": 10,
     "metadata": {},
     "output_type": "execute_result"
    }
   ],
   "source": [
    "# Dropping unnecessary columns\n",
    "\n",
    "    # Resoning:\n",
    "    # Passengers can still be identified by their ids\n",
    "    # Cabin column contains lots of missing values\n",
    "    # Ticket number column has lots of unique values hence doesn't tell us anything useful for this analysis\n",
    "\n",
    "df.drop(columns=['Name', 'Cabin', 'Ticket'], inplace=True)\n",
    "df.head()"
   ]
  },
  {
   "cell_type": "markdown",
   "metadata": {},
   "source": [
    "#### Data Wrangling & Consistency Check"
   ]
  },
  {
   "cell_type": "code",
   "execution_count": 11,
   "metadata": {},
   "outputs": [
    {
     "data": {
      "text/html": [
       "<div>\n",
       "<style scoped>\n",
       "    .dataframe tbody tr th:only-of-type {\n",
       "        vertical-align: middle;\n",
       "    }\n",
       "\n",
       "    .dataframe tbody tr th {\n",
       "        vertical-align: top;\n",
       "    }\n",
       "\n",
       "    .dataframe thead th {\n",
       "        text-align: right;\n",
       "    }\n",
       "</style>\n",
       "<table border=\"1\" class=\"dataframe\">\n",
       "  <thead>\n",
       "    <tr style=\"text-align: right;\">\n",
       "      <th></th>\n",
       "      <th>PassengerId</th>\n",
       "      <th>Survived</th>\n",
       "      <th>Pclass</th>\n",
       "      <th>Sex</th>\n",
       "      <th>Age</th>\n",
       "      <th>SibSp</th>\n",
       "      <th>Parch</th>\n",
       "      <th>Fare</th>\n",
       "      <th>Embarked</th>\n",
       "    </tr>\n",
       "  </thead>\n",
       "  <tbody>\n",
       "    <tr>\n",
       "      <th>0</th>\n",
       "      <td>1</td>\n",
       "      <td>deceased</td>\n",
       "      <td>lower</td>\n",
       "      <td>male</td>\n",
       "      <td>22.0</td>\n",
       "      <td>1</td>\n",
       "      <td>0</td>\n",
       "      <td>7.2500</td>\n",
       "      <td>southampton</td>\n",
       "    </tr>\n",
       "    <tr>\n",
       "      <th>1</th>\n",
       "      <td>2</td>\n",
       "      <td>survived</td>\n",
       "      <td>upper</td>\n",
       "      <td>female</td>\n",
       "      <td>38.0</td>\n",
       "      <td>1</td>\n",
       "      <td>0</td>\n",
       "      <td>71.2833</td>\n",
       "      <td>cherbourg</td>\n",
       "    </tr>\n",
       "    <tr>\n",
       "      <th>2</th>\n",
       "      <td>3</td>\n",
       "      <td>survived</td>\n",
       "      <td>lower</td>\n",
       "      <td>female</td>\n",
       "      <td>26.0</td>\n",
       "      <td>0</td>\n",
       "      <td>0</td>\n",
       "      <td>7.9250</td>\n",
       "      <td>southampton</td>\n",
       "    </tr>\n",
       "    <tr>\n",
       "      <th>3</th>\n",
       "      <td>4</td>\n",
       "      <td>survived</td>\n",
       "      <td>upper</td>\n",
       "      <td>female</td>\n",
       "      <td>35.0</td>\n",
       "      <td>1</td>\n",
       "      <td>0</td>\n",
       "      <td>53.1000</td>\n",
       "      <td>southampton</td>\n",
       "    </tr>\n",
       "    <tr>\n",
       "      <th>4</th>\n",
       "      <td>5</td>\n",
       "      <td>deceased</td>\n",
       "      <td>lower</td>\n",
       "      <td>male</td>\n",
       "      <td>35.0</td>\n",
       "      <td>0</td>\n",
       "      <td>0</td>\n",
       "      <td>8.0500</td>\n",
       "      <td>southampton</td>\n",
       "    </tr>\n",
       "  </tbody>\n",
       "</table>\n",
       "</div>"
      ],
      "text/plain": [
       "   PassengerId  Survived Pclass     Sex   Age  SibSp  Parch     Fare  \\\n",
       "0            1  deceased  lower    male  22.0      1      0   7.2500   \n",
       "1            2  survived  upper  female  38.0      1      0  71.2833   \n",
       "2            3  survived  lower  female  26.0      0      0   7.9250   \n",
       "3            4  survived  upper  female  35.0      1      0  53.1000   \n",
       "4            5  deceased  lower    male  35.0      0      0   8.0500   \n",
       "\n",
       "      Embarked  \n",
       "0  southampton  \n",
       "1    cherbourg  \n",
       "2  southampton  \n",
       "3  southampton  \n",
       "4  southampton  "
      ]
     },
     "execution_count": 11,
     "metadata": {},
     "output_type": "execute_result"
    }
   ],
   "source": [
    "# Transforming Survived, Pclass and Embarked columns to categorical data\n",
    "survived = {0: 'deceased',\n",
    "            1: 'survived'}\n",
    "\n",
    "pclass = {1: 'upper',\n",
    "          2: 'middle',\n",
    "          3: 'lower'}\n",
    "\n",
    "embarked = {'S':'southampton',\n",
    "            'C':'cherbourg',\n",
    "            'Q':'queenstown'}\n",
    "\n",
    "df['Survived'] = df['Survived'].map(survived)\n",
    "df['Pclass'] = df['Pclass'].map(pclass)\n",
    "df['Embarked'] = df['Embarked'].map(embarked)\n",
    "\n",
    "df.head()"
   ]
  },
  {
   "cell_type": "code",
   "execution_count": 12,
   "metadata": {},
   "outputs": [
    {
     "data": {
      "text/html": [
       "<div>\n",
       "<style scoped>\n",
       "    .dataframe tbody tr th:only-of-type {\n",
       "        vertical-align: middle;\n",
       "    }\n",
       "\n",
       "    .dataframe tbody tr th {\n",
       "        vertical-align: top;\n",
       "    }\n",
       "\n",
       "    .dataframe thead th {\n",
       "        text-align: right;\n",
       "    }\n",
       "</style>\n",
       "<table border=\"1\" class=\"dataframe\">\n",
       "  <thead>\n",
       "    <tr style=\"text-align: right;\">\n",
       "      <th></th>\n",
       "      <th>passenger_id</th>\n",
       "      <th>survived</th>\n",
       "      <th>passenger_class</th>\n",
       "      <th>sex</th>\n",
       "      <th>age</th>\n",
       "      <th>sibling_spouse_count</th>\n",
       "      <th>parent_children_count</th>\n",
       "      <th>fare</th>\n",
       "      <th>embarkation_port</th>\n",
       "    </tr>\n",
       "  </thead>\n",
       "  <tbody>\n",
       "    <tr>\n",
       "      <th>0</th>\n",
       "      <td>1</td>\n",
       "      <td>deceased</td>\n",
       "      <td>lower</td>\n",
       "      <td>male</td>\n",
       "      <td>22.0</td>\n",
       "      <td>1</td>\n",
       "      <td>0</td>\n",
       "      <td>7.2500</td>\n",
       "      <td>southampton</td>\n",
       "    </tr>\n",
       "    <tr>\n",
       "      <th>1</th>\n",
       "      <td>2</td>\n",
       "      <td>survived</td>\n",
       "      <td>upper</td>\n",
       "      <td>female</td>\n",
       "      <td>38.0</td>\n",
       "      <td>1</td>\n",
       "      <td>0</td>\n",
       "      <td>71.2833</td>\n",
       "      <td>cherbourg</td>\n",
       "    </tr>\n",
       "    <tr>\n",
       "      <th>2</th>\n",
       "      <td>3</td>\n",
       "      <td>survived</td>\n",
       "      <td>lower</td>\n",
       "      <td>female</td>\n",
       "      <td>26.0</td>\n",
       "      <td>0</td>\n",
       "      <td>0</td>\n",
       "      <td>7.9250</td>\n",
       "      <td>southampton</td>\n",
       "    </tr>\n",
       "    <tr>\n",
       "      <th>3</th>\n",
       "      <td>4</td>\n",
       "      <td>survived</td>\n",
       "      <td>upper</td>\n",
       "      <td>female</td>\n",
       "      <td>35.0</td>\n",
       "      <td>1</td>\n",
       "      <td>0</td>\n",
       "      <td>53.1000</td>\n",
       "      <td>southampton</td>\n",
       "    </tr>\n",
       "    <tr>\n",
       "      <th>4</th>\n",
       "      <td>5</td>\n",
       "      <td>deceased</td>\n",
       "      <td>lower</td>\n",
       "      <td>male</td>\n",
       "      <td>35.0</td>\n",
       "      <td>0</td>\n",
       "      <td>0</td>\n",
       "      <td>8.0500</td>\n",
       "      <td>southampton</td>\n",
       "    </tr>\n",
       "  </tbody>\n",
       "</table>\n",
       "</div>"
      ],
      "text/plain": [
       "   passenger_id  survived passenger_class     sex   age  sibling_spouse_count  \\\n",
       "0             1  deceased           lower    male  22.0                     1   \n",
       "1             2  survived           upper  female  38.0                     1   \n",
       "2             3  survived           lower  female  26.0                     0   \n",
       "3             4  survived           upper  female  35.0                     1   \n",
       "4             5  deceased           lower    male  35.0                     0   \n",
       "\n",
       "   parent_children_count     fare embarkation_port  \n",
       "0                      0   7.2500      southampton  \n",
       "1                      0  71.2833        cherbourg  \n",
       "2                      0   7.9250      southampton  \n",
       "3                      0  53.1000      southampton  \n",
       "4                      0   8.0500      southampton  "
      ]
     },
     "execution_count": 12,
     "metadata": {},
     "output_type": "execute_result"
    }
   ],
   "source": [
    "# Renaming columns\n",
    "df.columns = [col.lower() for col in df.columns]\n",
    "\n",
    "df.rename(columns={'passengerid':'passenger_id',\n",
    "                   'pclass':'passenger_class',\n",
    "                   'sibsp':'sibling_spouse_count',\n",
    "                   'parch':'parent_children_count',\n",
    "                   'embarked':'embarkation_port'},\n",
    "          inplace=True)\n",
    "df.head()"
   ]
  },
  {
   "cell_type": "code",
   "execution_count": 13,
   "metadata": {},
   "outputs": [
    {
     "data": {
      "text/plain": [
       "passenger_class\n",
       "lower     491\n",
       "upper     216\n",
       "middle    184\n",
       "Name: count, dtype: int64"
      ]
     },
     "execution_count": 13,
     "metadata": {},
     "output_type": "execute_result"
    }
   ],
   "source": [
    "# Checking passenger class values\n",
    "df.passenger_class.value_counts(dropna=False)"
   ]
  },
  {
   "cell_type": "code",
   "execution_count": 14,
   "metadata": {},
   "outputs": [
    {
     "data": {
      "text/plain": [
       "embarkation_port\n",
       "southampton    644\n",
       "cherbourg      168\n",
       "queenstown      77\n",
       "NaN              2\n",
       "Name: count, dtype: int64"
      ]
     },
     "execution_count": 14,
     "metadata": {},
     "output_type": "execute_result"
    }
   ],
   "source": [
    "# Checking embarkation port values\n",
    "df.embarkation_port.value_counts(dropna=False)"
   ]
  },
  {
   "cell_type": "code",
   "execution_count": 15,
   "metadata": {},
   "outputs": [
    {
     "data": {
      "text/plain": [
       "survived\n",
       "deceased    549\n",
       "survived    342\n",
       "Name: count, dtype: int64"
      ]
     },
     "execution_count": 15,
     "metadata": {},
     "output_type": "execute_result"
    }
   ],
   "source": [
    "# Checking survived values\n",
    "df.survived.value_counts(dropna=False)"
   ]
  },
  {
   "cell_type": "markdown",
   "metadata": {},
   "source": [
    "#### Data Cleaning"
   ]
  },
  {
   "cell_type": "code",
   "execution_count": 16,
   "metadata": {},
   "outputs": [
    {
     "data": {
      "text/html": [
       "<div>\n",
       "<style scoped>\n",
       "    .dataframe tbody tr th:only-of-type {\n",
       "        vertical-align: middle;\n",
       "    }\n",
       "\n",
       "    .dataframe tbody tr th {\n",
       "        vertical-align: top;\n",
       "    }\n",
       "\n",
       "    .dataframe thead th {\n",
       "        text-align: right;\n",
       "    }\n",
       "</style>\n",
       "<table border=\"1\" class=\"dataframe\">\n",
       "  <thead>\n",
       "    <tr style=\"text-align: right;\">\n",
       "      <th></th>\n",
       "      <th>passenger_id</th>\n",
       "      <th>survived</th>\n",
       "      <th>passenger_class</th>\n",
       "      <th>sex</th>\n",
       "      <th>age</th>\n",
       "      <th>sibling_spouse_count</th>\n",
       "      <th>parent_children_count</th>\n",
       "      <th>fare</th>\n",
       "      <th>embarkation_port</th>\n",
       "    </tr>\n",
       "  </thead>\n",
       "  <tbody>\n",
       "    <tr>\n",
       "      <th>61</th>\n",
       "      <td>62</td>\n",
       "      <td>survived</td>\n",
       "      <td>upper</td>\n",
       "      <td>female</td>\n",
       "      <td>38.0</td>\n",
       "      <td>0</td>\n",
       "      <td>0</td>\n",
       "      <td>80.0</td>\n",
       "      <td>NaN</td>\n",
       "    </tr>\n",
       "    <tr>\n",
       "      <th>829</th>\n",
       "      <td>830</td>\n",
       "      <td>survived</td>\n",
       "      <td>upper</td>\n",
       "      <td>female</td>\n",
       "      <td>62.0</td>\n",
       "      <td>0</td>\n",
       "      <td>0</td>\n",
       "      <td>80.0</td>\n",
       "      <td>NaN</td>\n",
       "    </tr>\n",
       "  </tbody>\n",
       "</table>\n",
       "</div>"
      ],
      "text/plain": [
       "     passenger_id  survived passenger_class     sex   age  \\\n",
       "61             62  survived           upper  female  38.0   \n",
       "829           830  survived           upper  female  62.0   \n",
       "\n",
       "     sibling_spouse_count  parent_children_count  fare embarkation_port  \n",
       "61                      0                      0  80.0              NaN  \n",
       "829                     0                      0  80.0              NaN  "
      ]
     },
     "execution_count": 16,
     "metadata": {},
     "output_type": "execute_result"
    }
   ],
   "source": [
    "# Handling embarkation_port null values\n",
    "df.loc[df['embarkation_port'].isna()]"
   ]
  },
  {
   "cell_type": "code",
   "execution_count": 17,
   "metadata": {},
   "outputs": [],
   "source": [
    "# Checking most frequent value of embarkation port\n",
    "mode_value = df['embarkation_port'].mode()[0]"
   ]
  },
  {
   "cell_type": "code",
   "execution_count": 18,
   "metadata": {},
   "outputs": [
    {
     "data": {
      "text/plain": [
       "passenger_id               0\n",
       "survived                   0\n",
       "passenger_class            0\n",
       "sex                        0\n",
       "age                      177\n",
       "sibling_spouse_count       0\n",
       "parent_children_count      0\n",
       "fare                       0\n",
       "embarkation_port           0\n",
       "dtype: int64"
      ]
     },
     "execution_count": 18,
     "metadata": {},
     "output_type": "execute_result"
    }
   ],
   "source": [
    "# Imputing nulls values with the mode\n",
    "df['embarkation_port'] = df['embarkation_port'].fillna(mode_value)\n",
    "df.isna().sum()"
   ]
  },
  {
   "cell_type": "code",
   "execution_count": 19,
   "metadata": {},
   "outputs": [
    {
     "data": {
      "text/plain": [
       "177"
      ]
     },
     "execution_count": 19,
     "metadata": {},
     "output_type": "execute_result"
    }
   ],
   "source": [
    "# Handling Age null values\n",
    "df['age'].isna().sum()"
   ]
  },
  {
   "cell_type": "code",
   "execution_count": 20,
   "metadata": {},
   "outputs": [
    {
     "data": {
      "text/plain": [
       "19.865319865319865"
      ]
     },
     "execution_count": 20,
     "metadata": {},
     "output_type": "execute_result"
    }
   ],
   "source": [
    "# Calculating nulls percentage of Age column\n",
    "nulls_percentage = df['age'].isna().sum().sum() / len(df['age']) * 100\n",
    "nulls_percentage"
   ]
  },
  {
   "cell_type": "code",
   "execution_count": 21,
   "metadata": {},
   "outputs": [],
   "source": [
    "# Getting median and mean values of Age column\n",
    "median = df['age'].median()"
   ]
  },
  {
   "cell_type": "code",
   "execution_count": 22,
   "metadata": {},
   "outputs": [
    {
     "data": {
      "text/plain": [
       "passenger_id             0\n",
       "survived                 0\n",
       "passenger_class          0\n",
       "sex                      0\n",
       "age                      0\n",
       "sibling_spouse_count     0\n",
       "parent_children_count    0\n",
       "fare                     0\n",
       "embarkation_port         0\n",
       "dtype: int64"
      ]
     },
     "execution_count": 22,
     "metadata": {},
     "output_type": "execute_result"
    }
   ],
   "source": [
    "# Imputing null Age values with median\n",
    "df['age'] = df['age'].fillna(median)\n",
    "\n",
    "df.isna().sum()"
   ]
  },
  {
   "cell_type": "code",
   "execution_count": 23,
   "metadata": {},
   "outputs": [
    {
     "data": {
      "image/png": "[encoded data removed]",
      "text/plain": [
       "<Figure size 1200x500 with 2 Axes>"
      ]
     },
     "metadata": {},
     "output_type": "display_data"
    }
   ],
   "source": [
    "# Visualizing frequency distribution of age\n",
    "fig, (ax1, ax2) = plt.subplots(nrows=1,\n",
    "                               ncols=2,\n",
    "                               figsize=(12, 5))\n",
    "\n",
    "ax1.hist(df['age'],\n",
    "         bins=20,\n",
    "         edgecolor='black',\n",
    "         linewidth=0.5)\n",
    "\n",
    "ax1.set_ylabel('Frequency')\n",
    "\n",
    "ax2.boxplot(df['age'])\n",
    "\n",
    "ax1.yaxis.grid(True,\n",
    "               alpha=0.2)\n",
    "ax1.set_axisbelow(True)\n",
    "\n",
    "ax2.yaxis.grid(True,\n",
    "               alpha=0.2)\n",
    "ax2.set_axisbelow(True)\n",
    "\n",
    "fig.suptitle('Age Frequency Distribution', \n",
    "             y=0.95,\n",
    "             fontsize=14,\n",
    "             fontweight='bold');"
   ]
  },
  {
   "cell_type": "markdown",
   "metadata": {},
   "source": [
    "The histogram shows that the most passengers on the Titanic are of age ranging between `20` to `30` years old. \n",
    "\n",
    "The boxplot indicates that the <b>median</b> age is `around 28`, with a some outliers representing younger and older passengers. This suggests that young adults were the predominant age group onboard."
   ]
  },
  {
   "cell_type": "code",
   "execution_count": 24,
   "metadata": {},
   "outputs": [
    {
     "data": {
      "text/plain": [
       "count    891.000000\n",
       "mean      32.204208\n",
       "std       49.693429\n",
       "min        0.000000\n",
       "25%        7.910400\n",
       "50%       14.454200\n",
       "75%       31.000000\n",
       "max      512.329200\n",
       "Name: fare, dtype: float64"
      ]
     },
     "execution_count": 24,
     "metadata": {},
     "output_type": "execute_result"
    }
   ],
   "source": [
    "#checking fare column values\n",
    "df['fare'].describe()"
   ]
  },
  {
   "cell_type": "code",
   "execution_count": 25,
   "metadata": {},
   "outputs": [
    {
     "data": {
      "image/png": "[encoded data removed]",
      "text/plain": [
       "<Figure size 1200x500 with 2 Axes>"
      ]
     },
     "metadata": {},
     "output_type": "display_data"
    }
   ],
   "source": [
    "# Visualizing frequency distribution of fare\n",
    "fig, (ax1, ax2) = plt.subplots(nrows=1,\n",
    "                               ncols=2,\n",
    "                               figsize=(12, 5))\n",
    "\n",
    "ax1.hist(df['fare'],\n",
    "         bins=20,\n",
    "         edgecolor='black',\n",
    "         linewidth=0.5)\n",
    "\n",
    "ax1.set_ylabel('Frequency')\n",
    "\n",
    "ax2.boxplot(df['fare'])\n",
    "\n",
    "ax1.yaxis.grid(True,\n",
    "               alpha=0.2)\n",
    "ax1.set_axisbelow(True)\n",
    "ax2.yaxis.grid(True,\n",
    "               alpha=0.2)\n",
    "ax2.set_axisbelow(True)\n",
    "\n",
    "fig.suptitle('Fare Frequency Distribution',\n",
    "             y=0.95,\n",
    "             fontsize=14,\n",
    "             fontweight='bold');"
   ]
  },
  {
   "cell_type": "markdown",
   "metadata": {},
   "source": [
    "The fare histogram illustrates that most passengers paid <b>low fare prices</b> for their trip, with a sharp decline in frequency as fare prices increase.\n",
    "\n",
    "The boxplot shows that a high number of paid fares were low with some extreme values, indicating that few passengers have paid significantly higher fare prices than the majority of passengers, possibly correlating with higher class passengers."
   ]
  },
  {
   "cell_type": "code",
   "execution_count": 26,
   "metadata": {},
   "outputs": [
    {
     "data": {
      "text/html": [
       "<div>\n",
       "<style scoped>\n",
       "    .dataframe tbody tr th:only-of-type {\n",
       "        vertical-align: middle;\n",
       "    }\n",
       "\n",
       "    .dataframe tbody tr th {\n",
       "        vertical-align: top;\n",
       "    }\n",
       "\n",
       "    .dataframe thead th {\n",
       "        text-align: right;\n",
       "    }\n",
       "</style>\n",
       "<table border=\"1\" class=\"dataframe\">\n",
       "  <thead>\n",
       "    <tr style=\"text-align: right;\">\n",
       "      <th></th>\n",
       "      <th>passenger_id</th>\n",
       "      <th>survived</th>\n",
       "      <th>passenger_class</th>\n",
       "      <th>sex</th>\n",
       "      <th>age</th>\n",
       "      <th>sibling_spouse_count</th>\n",
       "      <th>parent_children_count</th>\n",
       "      <th>fare</th>\n",
       "      <th>embarkation_port</th>\n",
       "      <th>family_members</th>\n",
       "    </tr>\n",
       "  </thead>\n",
       "  <tbody>\n",
       "    <tr>\n",
       "      <th>0</th>\n",
       "      <td>1</td>\n",
       "      <td>deceased</td>\n",
       "      <td>lower</td>\n",
       "      <td>male</td>\n",
       "      <td>22.0</td>\n",
       "      <td>1</td>\n",
       "      <td>0</td>\n",
       "      <td>7.2500</td>\n",
       "      <td>southampton</td>\n",
       "      <td>1</td>\n",
       "    </tr>\n",
       "    <tr>\n",
       "      <th>1</th>\n",
       "      <td>2</td>\n",
       "      <td>survived</td>\n",
       "      <td>upper</td>\n",
       "      <td>female</td>\n",
       "      <td>38.0</td>\n",
       "      <td>1</td>\n",
       "      <td>0</td>\n",
       "      <td>71.2833</td>\n",
       "      <td>cherbourg</td>\n",
       "      <td>1</td>\n",
       "    </tr>\n",
       "    <tr>\n",
       "      <th>2</th>\n",
       "      <td>3</td>\n",
       "      <td>survived</td>\n",
       "      <td>lower</td>\n",
       "      <td>female</td>\n",
       "      <td>26.0</td>\n",
       "      <td>0</td>\n",
       "      <td>0</td>\n",
       "      <td>7.9250</td>\n",
       "      <td>southampton</td>\n",
       "      <td>0</td>\n",
       "    </tr>\n",
       "    <tr>\n",
       "      <th>3</th>\n",
       "      <td>4</td>\n",
       "      <td>survived</td>\n",
       "      <td>upper</td>\n",
       "      <td>female</td>\n",
       "      <td>35.0</td>\n",
       "      <td>1</td>\n",
       "      <td>0</td>\n",
       "      <td>53.1000</td>\n",
       "      <td>southampton</td>\n",
       "      <td>1</td>\n",
       "    </tr>\n",
       "    <tr>\n",
       "      <th>4</th>\n",
       "      <td>5</td>\n",
       "      <td>deceased</td>\n",
       "      <td>lower</td>\n",
       "      <td>male</td>\n",
       "      <td>35.0</td>\n",
       "      <td>0</td>\n",
       "      <td>0</td>\n",
       "      <td>8.0500</td>\n",
       "      <td>southampton</td>\n",
       "      <td>0</td>\n",
       "    </tr>\n",
       "  </tbody>\n",
       "</table>\n",
       "</div>"
      ],
      "text/plain": [
       "   passenger_id  survived passenger_class     sex   age  sibling_spouse_count  \\\n",
       "0             1  deceased           lower    male  22.0                     1   \n",
       "1             2  survived           upper  female  38.0                     1   \n",
       "2             3  survived           lower  female  26.0                     0   \n",
       "3             4  survived           upper  female  35.0                     1   \n",
       "4             5  deceased           lower    male  35.0                     0   \n",
       "\n",
       "   parent_children_count     fare embarkation_port  family_members  \n",
       "0                      0   7.2500      southampton               1  \n",
       "1                      0  71.2833        cherbourg               1  \n",
       "2                      0   7.9250      southampton               0  \n",
       "3                      0  53.1000      southampton               1  \n",
       "4                      0   8.0500      southampton               0  "
      ]
     },
     "execution_count": 26,
     "metadata": {},
     "output_type": "execute_result"
    }
   ],
   "source": [
    "# Extracting family members column\n",
    "df.loc[:, 'family_members'] = df['sibling_spouse_count'] + df['parent_children_count']\n",
    "\n",
    "df.head()"
   ]
  },
  {
   "cell_type": "code",
   "execution_count": 27,
   "metadata": {},
   "outputs": [
    {
     "data": {
      "text/plain": [
       "family_members\n",
       "0     537\n",
       "1     161\n",
       "2     102\n",
       "3      29\n",
       "5      22\n",
       "4      15\n",
       "6      12\n",
       "10      7\n",
       "7       6\n",
       "Name: count, dtype: int64"
      ]
     },
     "execution_count": 27,
     "metadata": {},
     "output_type": "execute_result"
    }
   ],
   "source": [
    "# Checking values\n",
    "df['family_members'].value_counts(dropna=False)"
   ]
  },
  {
   "cell_type": "code",
   "execution_count": 28,
   "metadata": {},
   "outputs": [
    {
     "data": {
      "text/html": [
       "<div>\n",
       "<style scoped>\n",
       "    .dataframe tbody tr th:only-of-type {\n",
       "        vertical-align: middle;\n",
       "    }\n",
       "\n",
       "    .dataframe tbody tr th {\n",
       "        vertical-align: top;\n",
       "    }\n",
       "\n",
       "    .dataframe thead th {\n",
       "        text-align: right;\n",
       "    }\n",
       "</style>\n",
       "<table border=\"1\" class=\"dataframe\">\n",
       "  <thead>\n",
       "    <tr style=\"text-align: right;\">\n",
       "      <th></th>\n",
       "      <th>passenger_id</th>\n",
       "      <th>survived</th>\n",
       "      <th>passenger_class</th>\n",
       "      <th>sex</th>\n",
       "      <th>age</th>\n",
       "      <th>sibling_spouse_count</th>\n",
       "      <th>parent_children_count</th>\n",
       "      <th>fare</th>\n",
       "      <th>embarkation_port</th>\n",
       "      <th>family_members</th>\n",
       "    </tr>\n",
       "  </thead>\n",
       "  <tbody>\n",
       "    <tr>\n",
       "      <th>159</th>\n",
       "      <td>160</td>\n",
       "      <td>deceased</td>\n",
       "      <td>lower</td>\n",
       "      <td>male</td>\n",
       "      <td>28.0</td>\n",
       "      <td>8</td>\n",
       "      <td>2</td>\n",
       "      <td>69.55</td>\n",
       "      <td>southampton</td>\n",
       "      <td>10</td>\n",
       "    </tr>\n",
       "    <tr>\n",
       "      <th>180</th>\n",
       "      <td>181</td>\n",
       "      <td>deceased</td>\n",
       "      <td>lower</td>\n",
       "      <td>female</td>\n",
       "      <td>28.0</td>\n",
       "      <td>8</td>\n",
       "      <td>2</td>\n",
       "      <td>69.55</td>\n",
       "      <td>southampton</td>\n",
       "      <td>10</td>\n",
       "    </tr>\n",
       "    <tr>\n",
       "      <th>201</th>\n",
       "      <td>202</td>\n",
       "      <td>deceased</td>\n",
       "      <td>lower</td>\n",
       "      <td>male</td>\n",
       "      <td>28.0</td>\n",
       "      <td>8</td>\n",
       "      <td>2</td>\n",
       "      <td>69.55</td>\n",
       "      <td>southampton</td>\n",
       "      <td>10</td>\n",
       "    </tr>\n",
       "    <tr>\n",
       "      <th>324</th>\n",
       "      <td>325</td>\n",
       "      <td>deceased</td>\n",
       "      <td>lower</td>\n",
       "      <td>male</td>\n",
       "      <td>28.0</td>\n",
       "      <td>8</td>\n",
       "      <td>2</td>\n",
       "      <td>69.55</td>\n",
       "      <td>southampton</td>\n",
       "      <td>10</td>\n",
       "    </tr>\n",
       "    <tr>\n",
       "      <th>792</th>\n",
       "      <td>793</td>\n",
       "      <td>deceased</td>\n",
       "      <td>lower</td>\n",
       "      <td>female</td>\n",
       "      <td>28.0</td>\n",
       "      <td>8</td>\n",
       "      <td>2</td>\n",
       "      <td>69.55</td>\n",
       "      <td>southampton</td>\n",
       "      <td>10</td>\n",
       "    </tr>\n",
       "    <tr>\n",
       "      <th>846</th>\n",
       "      <td>847</td>\n",
       "      <td>deceased</td>\n",
       "      <td>lower</td>\n",
       "      <td>male</td>\n",
       "      <td>28.0</td>\n",
       "      <td>8</td>\n",
       "      <td>2</td>\n",
       "      <td>69.55</td>\n",
       "      <td>southampton</td>\n",
       "      <td>10</td>\n",
       "    </tr>\n",
       "    <tr>\n",
       "      <th>863</th>\n",
       "      <td>864</td>\n",
       "      <td>deceased</td>\n",
       "      <td>lower</td>\n",
       "      <td>female</td>\n",
       "      <td>28.0</td>\n",
       "      <td>8</td>\n",
       "      <td>2</td>\n",
       "      <td>69.55</td>\n",
       "      <td>southampton</td>\n",
       "      <td>10</td>\n",
       "    </tr>\n",
       "  </tbody>\n",
       "</table>\n",
       "</div>"
      ],
      "text/plain": [
       "     passenger_id  survived passenger_class     sex   age  \\\n",
       "159           160  deceased           lower    male  28.0   \n",
       "180           181  deceased           lower  female  28.0   \n",
       "201           202  deceased           lower    male  28.0   \n",
       "324           325  deceased           lower    male  28.0   \n",
       "792           793  deceased           lower  female  28.0   \n",
       "846           847  deceased           lower    male  28.0   \n",
       "863           864  deceased           lower  female  28.0   \n",
       "\n",
       "     sibling_spouse_count  parent_children_count   fare embarkation_port  \\\n",
       "159                     8                      2  69.55      southampton   \n",
       "180                     8                      2  69.55      southampton   \n",
       "201                     8                      2  69.55      southampton   \n",
       "324                     8                      2  69.55      southampton   \n",
       "792                     8                      2  69.55      southampton   \n",
       "846                     8                      2  69.55      southampton   \n",
       "863                     8                      2  69.55      southampton   \n",
       "\n",
       "     family_members  \n",
       "159              10  \n",
       "180              10  \n",
       "201              10  \n",
       "324              10  \n",
       "792              10  \n",
       "846              10  \n",
       "863              10  "
      ]
     },
     "execution_count": 28,
     "metadata": {},
     "output_type": "execute_result"
    }
   ],
   "source": [
    "# Identifying rows with high family members count\n",
    "df.loc[df['family_members'] == df['family_members'].max()]"
   ]
  },
  {
   "cell_type": "markdown",
   "metadata": {},
   "source": [
    "#### Analysis"
   ]
  },
  {
   "cell_type": "markdown",
   "metadata": {},
   "source": [
    "##### Titanic Disaster Casualty Rate"
   ]
  },
  {
   "cell_type": "code",
   "execution_count": 29,
   "metadata": {},
   "outputs": [
    {
     "data": {
      "image/png": "[encoded data removed]",
      "text/plain": [
       "<Figure size 800x500 with 1 Axes>"
      ]
     },
     "metadata": {},
     "output_type": "display_data"
    }
   ],
   "source": [
    "# Visualizing casulty rate\n",
    "value_counts = df['survived'].value_counts()\n",
    "\n",
    "fig, ax=plt.subplots(figsize=(8, 5))\n",
    "\n",
    "ax.pie(value_counts,\n",
    "       labels=value_counts.index,\n",
    "       colors=['sandybrown', 'mediumseagreen'],\n",
    "       startangle=140,\n",
    "       autopct='%1.1f%%',\n",
    "       wedgeprops = {'edgecolor':'white',\n",
    "                    'linewidth':0.8},\n",
    "       textprops = {'fontsize':8.7})\n",
    "       \n",
    "\n",
    "ax.set_title('Titanic Disaster Overall Casulty Rate', \n",
    "             y=1.02,\n",
    "             fontsize=14,\n",
    "             fontweight='bold');"
   ]
  },
  {
   "cell_type": "markdown",
   "metadata": {},
   "source": [
    "The pie chart shows that `61.8%` of passengers did not survive the Titanic shipwreck, while `38.2%` did. This high fatality rate underscores the severity of the disaster."
   ]
  },
  {
   "cell_type": "markdown",
   "metadata": {},
   "source": [
    "##### Casualty rate by gender"
   ]
  },
  {
   "cell_type": "code",
   "execution_count": 30,
   "metadata": {},
   "outputs": [
    {
     "data": {
      "text/html": [
       "<div>\n",
       "<style scoped>\n",
       "    .dataframe tbody tr th:only-of-type {\n",
       "        vertical-align: middle;\n",
       "    }\n",
       "\n",
       "    .dataframe tbody tr th {\n",
       "        vertical-align: top;\n",
       "    }\n",
       "\n",
       "    .dataframe thead th {\n",
       "        text-align: right;\n",
       "    }\n",
       "</style>\n",
       "<table border=\"1\" class=\"dataframe\">\n",
       "  <thead>\n",
       "    <tr style=\"text-align: right;\">\n",
       "      <th>survived</th>\n",
       "      <th>deceased</th>\n",
       "      <th>survived</th>\n",
       "    </tr>\n",
       "    <tr>\n",
       "      <th>sex</th>\n",
       "      <th></th>\n",
       "      <th></th>\n",
       "    </tr>\n",
       "  </thead>\n",
       "  <tbody>\n",
       "    <tr>\n",
       "      <th>female</th>\n",
       "      <td>81</td>\n",
       "      <td>233</td>\n",
       "    </tr>\n",
       "    <tr>\n",
       "      <th>male</th>\n",
       "      <td>468</td>\n",
       "      <td>109</td>\n",
       "    </tr>\n",
       "  </tbody>\n",
       "</table>\n",
       "</div>"
      ],
      "text/plain": [
       "survived  deceased  survived\n",
       "sex                         \n",
       "female          81       233\n",
       "male           468       109"
      ]
     },
     "execution_count": 30,
     "metadata": {},
     "output_type": "execute_result"
    }
   ],
   "source": [
    "casualty_by_gender = pd.crosstab(df['sex'], df['survived'])\n",
    "\n",
    "casualty_by_gender"
   ]
  },
  {
   "cell_type": "code",
   "execution_count": 31,
   "metadata": {},
   "outputs": [],
   "source": [
    "# Calculating total counts and survival rates\n",
    "casualty_by_gender['total_count'] = casualty_by_gender['deceased'] + casualty_by_gender['survived']\n",
    "\n",
    "casualty_by_gender['deceased % (rel. to gender group)'] = casualty_by_gender['deceased'] / casualty_by_gender['total_count']\n",
    "casualty_by_gender['survived % (rel. to gender group)'] = casualty_by_gender['survived'] / casualty_by_gender['total_count']\n",
    "\n",
    "casualty_by_gender['deceased % (rel. to total)'] = casualty_by_gender['deceased'] / casualty_by_gender['deceased'].sum()\n",
    "casualty_by_gender['survived % (rel. to total)'] = casualty_by_gender['survived'] / casualty_by_gender['survived'].sum()"
   ]
  },
  {
   "cell_type": "code",
   "execution_count": 32,
   "metadata": {},
   "outputs": [
    {
     "data": {
      "image/png": "[encoded data removed]",
      "text/plain": [
       "<Figure size 1200x500 with 2 Axes>"
      ]
     },
     "metadata": {},
     "output_type": "display_data"
    }
   ],
   "source": [
    "# Visualizing casualty rate by gender\n",
    "fig, (ax1, ax2) = plt.subplots(nrows=1,\n",
    "                               ncols=2,\n",
    "                               figsize=(12, 5))\n",
    "\n",
    "casualty_by_gender = casualty_by_gender.sort_values(by='deceased', ascending=False)\n",
    "\n",
    "ax1.bar(casualty_by_gender.index,\n",
    "        casualty_by_gender['deceased'],\n",
    "        label='deceased',\n",
    "        color='sandybrown',\n",
    "        edgecolor='black',\n",
    "        linewidth=0.5,\n",
    "        width=0.3)\n",
    "ax1.bar(casualty_by_gender.index,\n",
    "        casualty_by_gender['survived'],\n",
    "        label='survived',\n",
    "        bottom=casualty_by_gender['deceased'],\n",
    "        color='mediumseagreen',\n",
    "        edgecolor='black',\n",
    "        linewidth=0.5,\n",
    "        width=0.3)\n",
    "\n",
    "colors = plt.cm.Oranges(casualty_by_gender['deceased % (rel. to total)']*0.48) ##increase intensity\n",
    " \n",
    "ax2.pie(casualty_by_gender['deceased'],\n",
    "        labels=casualty_by_gender.index,\n",
    "        autopct='%1.1f%%',\n",
    "        colors=colors,\n",
    "        startangle=180,\n",
    "        wedgeprops={'edgecolor':'white',\n",
    "                    'linewidth':0.8},\n",
    "        textprops={'fontsize':9})\n",
    "\n",
    "ax1.yaxis.grid(True,\n",
    "               alpha=0.2)\n",
    "ax1.set_axisbelow(True)\n",
    "\n",
    "ax1.legend()\n",
    "ax1.set_ylabel('total count')\n",
    "\n",
    "fig.suptitle('Casualty Rate by Gender',\n",
    "             y=0.95,\n",
    "             fontsize=14,\n",
    "             fontweight='bold');"
   ]
  },
  {
   "cell_type": "code",
   "execution_count": 33,
   "metadata": {},
   "outputs": [
    {
     "data": {
      "text/html": [
       "<div>\n",
       "<style scoped>\n",
       "    .dataframe tbody tr th:only-of-type {\n",
       "        vertical-align: middle;\n",
       "    }\n",
       "\n",
       "    .dataframe tbody tr th {\n",
       "        vertical-align: top;\n",
       "    }\n",
       "\n",
       "    .dataframe thead th {\n",
       "        text-align: right;\n",
       "    }\n",
       "</style>\n",
       "<table border=\"1\" class=\"dataframe\">\n",
       "  <thead>\n",
       "    <tr style=\"text-align: right;\">\n",
       "      <th>survived</th>\n",
       "      <th>deceased</th>\n",
       "      <th>survived</th>\n",
       "      <th>total_count</th>\n",
       "      <th>deceased % (rel. to gender group)</th>\n",
       "      <th>survived % (rel. to gender group)</th>\n",
       "      <th>deceased % (rel. to total)</th>\n",
       "      <th>survived % (rel. to total)</th>\n",
       "    </tr>\n",
       "    <tr>\n",
       "      <th>sex</th>\n",
       "      <th></th>\n",
       "      <th></th>\n",
       "      <th></th>\n",
       "      <th></th>\n",
       "      <th></th>\n",
       "      <th></th>\n",
       "      <th></th>\n",
       "    </tr>\n",
       "  </thead>\n",
       "  <tbody>\n",
       "    <tr>\n",
       "      <th>male</th>\n",
       "      <td>468</td>\n",
       "      <td>109</td>\n",
       "      <td>577</td>\n",
       "      <td>0.811092</td>\n",
       "      <td>0.188908</td>\n",
       "      <td>0.852459</td>\n",
       "      <td>0.318713</td>\n",
       "    </tr>\n",
       "    <tr>\n",
       "      <th>female</th>\n",
       "      <td>81</td>\n",
       "      <td>233</td>\n",
       "      <td>314</td>\n",
       "      <td>0.257962</td>\n",
       "      <td>0.742038</td>\n",
       "      <td>0.147541</td>\n",
       "      <td>0.681287</td>\n",
       "    </tr>\n",
       "  </tbody>\n",
       "</table>\n",
       "</div>"
      ],
      "text/plain": [
       "survived  deceased  survived  total_count  deceased % (rel. to gender group)  \\\n",
       "sex                                                                            \n",
       "male           468       109          577                           0.811092   \n",
       "female          81       233          314                           0.257962   \n",
       "\n",
       "survived  survived % (rel. to gender group)  deceased % (rel. to total)  \\\n",
       "sex                                                                       \n",
       "male                               0.188908                    0.852459   \n",
       "female                             0.742038                    0.147541   \n",
       "\n",
       "survived  survived % (rel. to total)  \n",
       "sex                                   \n",
       "male                        0.318713  \n",
       "female                      0.681287  "
      ]
     },
     "execution_count": 33,
     "metadata": {},
     "output_type": "execute_result"
    }
   ],
   "source": [
    "casualty_by_gender"
   ]
  },
  {
   "cell_type": "markdown",
   "metadata": {},
   "source": [
    "Male passengers had a significantly higher casualty rate than females as depicted in both the bar and pie charts. \n",
    "\n",
    "Almost `75%` of female passengers survived the Titanic shipwreck, while approx. `81%` of male passenger perished."
   ]
  },
  {
   "cell_type": "markdown",
   "metadata": {},
   "source": [
    "##### Casualty rate by age group"
   ]
  },
  {
   "cell_type": "code",
   "execution_count": 34,
   "metadata": {},
   "outputs": [
    {
     "data": {
      "text/plain": [
       "age_group\n",
       "young adults    448\n",
       "adults          304\n",
       "children        113\n",
       "elderly          26\n",
       "Name: count, dtype: int64"
      ]
     },
     "execution_count": 34,
     "metadata": {},
     "output_type": "execute_result"
    }
   ],
   "source": [
    "# Deriving age group variable\n",
    "df.loc[df['age'] < 18, 'age_group'] = 'children'\n",
    "df.loc[(df['age'] >= 18) & (df['age'] < 30), 'age_group'] = 'young adults'\n",
    "df.loc[(df['age'] >= 30) & (df['age'] < 60), 'age_group'] = 'adults'\n",
    "df.loc[df['age'] >= 60, 'age_group'] = 'elderly'\n",
    "\n",
    "df['age_group'].value_counts(dropna=False)"
   ]
  },
  {
   "cell_type": "code",
   "execution_count": 35,
   "metadata": {},
   "outputs": [],
   "source": [
    "# Calculating total counts and survival rates by age group\n",
    "casualty_by_age = pd.crosstab(df['age_group'], df['survived'])\n",
    "\n",
    "casualty_by_age['total_count'] = casualty_by_age['deceased'] + casualty_by_age['survived']\n",
    "\n",
    "casualty_by_age['deceased % (rel. to age group)'] = casualty_by_age['deceased'] / casualty_by_age['total_count']\n",
    "casualty_by_age['survived % (rel. to age group)'] = casualty_by_age['survived'] / casualty_by_age['total_count']\n",
    "\n",
    "casualty_by_age['deceased % (rel. to total)'] = casualty_by_age['deceased'] / casualty_by_age['deceased'].sum()\n",
    "casualty_by_age['survived % (rel. to total)'] = casualty_by_age['survived'] / casualty_by_age['survived'].sum()\n",
    "\n",
    "casualty_by_age = casualty_by_age.sort_values(by='total_count', ascending=False)"
   ]
  },
  {
   "cell_type": "code",
   "execution_count": 36,
   "metadata": {},
   "outputs": [
    {
     "data": {
      "image/png": "[encoded data removed]",
      "text/plain": [
       "<Figure size 1200x500 with 2 Axes>"
      ]
     },
     "metadata": {},
     "output_type": "display_data"
    }
   ],
   "source": [
    "# visualizing casualty rate by age group\n",
    "fig, (ax1, ax2) = plt.subplots(nrows=1,\n",
    "                               ncols=2,\n",
    "                               figsize=(12, 5))\n",
    "\n",
    "ax1.bar(casualty_by_age.index,\n",
    "        casualty_by_age['deceased'],\n",
    "        color='sandybrown',\n",
    "        label='deceased',\n",
    "        edgecolor='Black',\n",
    "        linewidth=0.5,\n",
    "        width=0.5)\n",
    "ax1.bar(casualty_by_age.index,\n",
    "        casualty_by_age['survived'],\n",
    "        color='mediumseagreen',\n",
    "        label='survived',\n",
    "        bottom=casualty_by_age['deceased'],\n",
    "        edgecolor='Black',\n",
    "        linewidth=0.5,\n",
    "        width=0.5)\n",
    "\n",
    "colors = plt.cm.Oranges(casualty_by_age['deceased % (rel. to total)'] * 0.7) ##increase intensity\n",
    "\n",
    "ax2.pie(casualty_by_age['deceased'],\n",
    "        labels=casualty_by_age.index,\n",
    "        autopct='%1.1f%%',\n",
    "        startangle=-180,\n",
    "        colors=colors,\n",
    "        wedgeprops={'edgecolor':'white',\n",
    "                    'linewidth':0.8},\n",
    "        textprops={'fontsize':9})\n",
    "\n",
    "\n",
    "ax1.yaxis.grid(True,\n",
    "               alpha=0.2)\n",
    "ax1.set_axisbelow(True)\n",
    "\n",
    "ax1.set_ylabel('total count')\n",
    "ax1.legend();\n",
    "\n",
    "fig.suptitle('Casualty Rate by Age Group',\n",
    "             y=0.95,\n",
    "             fontsize=14,\n",
    "             fontweight='bold');"
   ]
  },
  {
   "cell_type": "code",
   "execution_count": 37,
   "metadata": {},
   "outputs": [
    {
     "data": {
      "text/html": [
       "<div>\n",
       "<style scoped>\n",
       "    .dataframe tbody tr th:only-of-type {\n",
       "        vertical-align: middle;\n",
       "    }\n",
       "\n",
       "    .dataframe tbody tr th {\n",
       "        vertical-align: top;\n",
       "    }\n",
       "\n",
       "    .dataframe thead th {\n",
       "        text-align: right;\n",
       "    }\n",
       "</style>\n",
       "<table border=\"1\" class=\"dataframe\">\n",
       "  <thead>\n",
       "    <tr style=\"text-align: right;\">\n",
       "      <th>survived</th>\n",
       "      <th>deceased</th>\n",
       "      <th>survived</th>\n",
       "      <th>total_count</th>\n",
       "      <th>deceased % (rel. to age group)</th>\n",
       "      <th>survived % (rel. to age group)</th>\n",
       "      <th>deceased % (rel. to total)</th>\n",
       "      <th>survived % (rel. to total)</th>\n",
       "    </tr>\n",
       "    <tr>\n",
       "      <th>age_group</th>\n",
       "      <th></th>\n",
       "      <th></th>\n",
       "      <th></th>\n",
       "      <th></th>\n",
       "      <th></th>\n",
       "      <th></th>\n",
       "      <th></th>\n",
       "    </tr>\n",
       "  </thead>\n",
       "  <tbody>\n",
       "    <tr>\n",
       "      <th>young adults</th>\n",
       "      <td>301</td>\n",
       "      <td>147</td>\n",
       "      <td>448</td>\n",
       "      <td>0.671875</td>\n",
       "      <td>0.328125</td>\n",
       "      <td>0.548270</td>\n",
       "      <td>0.429825</td>\n",
       "    </tr>\n",
       "    <tr>\n",
       "      <th>adults</th>\n",
       "      <td>177</td>\n",
       "      <td>127</td>\n",
       "      <td>304</td>\n",
       "      <td>0.582237</td>\n",
       "      <td>0.417763</td>\n",
       "      <td>0.322404</td>\n",
       "      <td>0.371345</td>\n",
       "    </tr>\n",
       "    <tr>\n",
       "      <th>children</th>\n",
       "      <td>52</td>\n",
       "      <td>61</td>\n",
       "      <td>113</td>\n",
       "      <td>0.460177</td>\n",
       "      <td>0.539823</td>\n",
       "      <td>0.094718</td>\n",
       "      <td>0.178363</td>\n",
       "    </tr>\n",
       "    <tr>\n",
       "      <th>elderly</th>\n",
       "      <td>19</td>\n",
       "      <td>7</td>\n",
       "      <td>26</td>\n",
       "      <td>0.730769</td>\n",
       "      <td>0.269231</td>\n",
       "      <td>0.034608</td>\n",
       "      <td>0.020468</td>\n",
       "    </tr>\n",
       "  </tbody>\n",
       "</table>\n",
       "</div>"
      ],
      "text/plain": [
       "survived      deceased  survived  total_count  deceased % (rel. to age group)  \\\n",
       "age_group                                                                       \n",
       "young adults       301       147          448                        0.671875   \n",
       "adults             177       127          304                        0.582237   \n",
       "children            52        61          113                        0.460177   \n",
       "elderly             19         7           26                        0.730769   \n",
       "\n",
       "survived      survived % (rel. to age group)  deceased % (rel. to total)  \\\n",
       "age_group                                                                  \n",
       "young adults                        0.328125                    0.548270   \n",
       "adults                              0.417763                    0.322404   \n",
       "children                            0.539823                    0.094718   \n",
       "elderly                             0.269231                    0.034608   \n",
       "\n",
       "survived      survived % (rel. to total)  \n",
       "age_group                                 \n",
       "young adults                    0.429825  \n",
       "adults                          0.371345  \n",
       "children                        0.178363  \n",
       "elderly                         0.020468  "
      ]
     },
     "execution_count": 37,
     "metadata": {},
     "output_type": "execute_result"
    }
   ],
   "source": [
    "casualty_by_age"
   ]
  },
  {
   "cell_type": "markdown",
   "metadata": {},
   "source": [
    "The data shows that young adults have the highest casualty rate and make up the largest proportion among the deceased passengers. This is consistent with the age frequency distribution histogram showing them as the largest age group on the Titanic.\n",
    "\n",
    "Over `50%` of children have survived the Titanic shipwreck. These findings — alongside the high survival rate of woman, are consistent with historical context, reflecting the enforcement of the '<b>woman and children first</b>' emergency policy."
   ]
  },
  {
   "cell_type": "markdown",
   "metadata": {},
   "source": [
    "##### Casualty rate by accompanying family members"
   ]
  },
  {
   "cell_type": "code",
   "execution_count": 38,
   "metadata": {},
   "outputs": [
    {
     "data": {
      "text/plain": [
       "family_members_count\n",
       "No members     537\n",
       "≤ 5 members    329\n",
       "> 5 members     25\n",
       "Name: count, dtype: int64"
      ]
     },
     "execution_count": 38,
     "metadata": {},
     "output_type": "execute_result"
    }
   ],
   "source": [
    "# Deriving family members count\n",
    "df.loc[df['family_members'] == 0, 'family_members_count'] = 'No members'\n",
    "df.loc[(df['family_members'] > 0) & (df['family_members'] <= 5), 'family_members_count'] = '≤ 5 members'\n",
    "df.loc[df['family_members'] > 5, 'family_members_count'] = '> 5 members'\n",
    "\n",
    "df['family_members_count'].value_counts(dropna=False)"
   ]
  },
  {
   "cell_type": "code",
   "execution_count": 39,
   "metadata": {},
   "outputs": [
    {
     "data": {
      "text/html": [
       "<div>\n",
       "<style scoped>\n",
       "    .dataframe tbody tr th:only-of-type {\n",
       "        vertical-align: middle;\n",
       "    }\n",
       "\n",
       "    .dataframe tbody tr th {\n",
       "        vertical-align: top;\n",
       "    }\n",
       "\n",
       "    .dataframe thead th {\n",
       "        text-align: right;\n",
       "    }\n",
       "</style>\n",
       "<table border=\"1\" class=\"dataframe\">\n",
       "  <thead>\n",
       "    <tr style=\"text-align: right;\">\n",
       "      <th>survived</th>\n",
       "      <th>deceased</th>\n",
       "      <th>survived</th>\n",
       "    </tr>\n",
       "    <tr>\n",
       "      <th>family_members_count</th>\n",
       "      <th></th>\n",
       "      <th></th>\n",
       "    </tr>\n",
       "  </thead>\n",
       "  <tbody>\n",
       "    <tr>\n",
       "      <th>&gt; 5 members</th>\n",
       "      <td>21</td>\n",
       "      <td>4</td>\n",
       "    </tr>\n",
       "    <tr>\n",
       "      <th>No members</th>\n",
       "      <td>374</td>\n",
       "      <td>163</td>\n",
       "    </tr>\n",
       "    <tr>\n",
       "      <th>≤ 5 members</th>\n",
       "      <td>154</td>\n",
       "      <td>175</td>\n",
       "    </tr>\n",
       "  </tbody>\n",
       "</table>\n",
       "</div>"
      ],
      "text/plain": [
       "survived              deceased  survived\n",
       "family_members_count                    \n",
       "> 5 members                 21         4\n",
       "No members                 374       163\n",
       "≤ 5 members                154       175"
      ]
     },
     "execution_count": 39,
     "metadata": {},
     "output_type": "execute_result"
    }
   ],
   "source": [
    "casualty_by_fam_members = pd.crosstab(df['family_members_count'], df['survived'])\n",
    "\n",
    "casualty_by_fam_members"
   ]
  },
  {
   "cell_type": "code",
   "execution_count": 40,
   "metadata": {},
   "outputs": [],
   "source": [
    "# Calculating total counts and survival rate by accompanying family members\n",
    "casualty_by_fam_members['total_count'] = casualty_by_fam_members['deceased'] + casualty_by_fam_members['survived']\n",
    "\n",
    "casualty_by_fam_members['deceased % (rel. to family group)'] = casualty_by_fam_members['deceased'] / casualty_by_fam_members['total_count']\n",
    "casualty_by_fam_members['survived % (rel. to family group)'] = casualty_by_fam_members['survived'] / casualty_by_fam_members['total_count']\n",
    "\n",
    "casualty_by_fam_members['deceased % (rel. to total)'] = casualty_by_fam_members['deceased'] / casualty_by_fam_members['deceased'].sum()\n",
    "casualty_by_fam_members['survived % (rel. to total)'] = casualty_by_fam_members['survived'] / casualty_by_fam_members['survived'].sum()\n",
    "\n",
    "casualty_by_fam_members = casualty_by_fam_members.sort_values(by='deceased', ascending=False)"
   ]
  },
  {
   "cell_type": "code",
   "execution_count": 41,
   "metadata": {},
   "outputs": [
    {
     "data": {
      "image/png": "[encoded data removed]",
      "text/plain": [
       "<Figure size 1200x500 with 2 Axes>"
      ]
     },
     "metadata": {},
     "output_type": "display_data"
    }
   ],
   "source": [
    "# Visualizing casualty rate by accompanying family members\n",
    "fig, (ax1, ax2) = plt.subplots(nrows=1,\n",
    "                               ncols=2,\n",
    "                               figsize=(12, 5))\n",
    "\n",
    "ax1.bar(casualty_by_fam_members.index,\n",
    "        casualty_by_fam_members['deceased'],\n",
    "        label='deceased',\n",
    "        color='sandybrown',\n",
    "        edgecolor='black',\n",
    "        linewidth=0.5,\n",
    "        width=0.5)\n",
    "ax1.bar(casualty_by_fam_members.index,\n",
    "        casualty_by_fam_members['survived'],\n",
    "        label='survived',\n",
    "        bottom=casualty_by_fam_members['deceased'],\n",
    "        color='mediumseagreen',\n",
    "        edgecolor='black',\n",
    "        linewidth=0.5,\n",
    "        width=0.5)\n",
    "\n",
    "colors = plt.cm.Oranges(casualty_by_fam_members['deceased % (rel. to total)']*0.6)\n",
    "\n",
    "ax2.pie(casualty_by_fam_members['deceased'],\n",
    "        labels=casualty_by_fam_members.index,\n",
    "        autopct='%1.1f%%',\n",
    "        startangle=180,\n",
    "        colors=colors,\n",
    "        wedgeprops={'edgecolor':'white',\n",
    "                    'linewidth':0.8},\n",
    "        textprops={'fontsize':9})\n",
    "\n",
    "ax1.yaxis.grid(True,\n",
    "               alpha=0.2)\n",
    "ax1.set_axisbelow(True)\n",
    "\n",
    "ax1.legend()\n",
    "ax1.set_ylabel('total_count');\n",
    "\n",
    "fig.suptitle('Casualty Rate by (Accompanying) Family Members Group',\n",
    "             y=0.95,\n",
    "             fontsize=14,\n",
    "             fontweight='bold');"
   ]
  },
  {
   "cell_type": "code",
   "execution_count": 42,
   "metadata": {},
   "outputs": [
    {
     "data": {
      "text/html": [
       "<div>\n",
       "<style scoped>\n",
       "    .dataframe tbody tr th:only-of-type {\n",
       "        vertical-align: middle;\n",
       "    }\n",
       "\n",
       "    .dataframe tbody tr th {\n",
       "        vertical-align: top;\n",
       "    }\n",
       "\n",
       "    .dataframe thead th {\n",
       "        text-align: right;\n",
       "    }\n",
       "</style>\n",
       "<table border=\"1\" class=\"dataframe\">\n",
       "  <thead>\n",
       "    <tr style=\"text-align: right;\">\n",
       "      <th>survived</th>\n",
       "      <th>deceased</th>\n",
       "      <th>survived</th>\n",
       "      <th>total_count</th>\n",
       "      <th>deceased % (rel. to family group)</th>\n",
       "      <th>survived % (rel. to family group)</th>\n",
       "      <th>deceased % (rel. to total)</th>\n",
       "      <th>survived % (rel. to total)</th>\n",
       "    </tr>\n",
       "    <tr>\n",
       "      <th>family_members_count</th>\n",
       "      <th></th>\n",
       "      <th></th>\n",
       "      <th></th>\n",
       "      <th></th>\n",
       "      <th></th>\n",
       "      <th></th>\n",
       "      <th></th>\n",
       "    </tr>\n",
       "  </thead>\n",
       "  <tbody>\n",
       "    <tr>\n",
       "      <th>No members</th>\n",
       "      <td>374</td>\n",
       "      <td>163</td>\n",
       "      <td>537</td>\n",
       "      <td>0.696462</td>\n",
       "      <td>0.303538</td>\n",
       "      <td>0.681239</td>\n",
       "      <td>0.476608</td>\n",
       "    </tr>\n",
       "    <tr>\n",
       "      <th>≤ 5 members</th>\n",
       "      <td>154</td>\n",
       "      <td>175</td>\n",
       "      <td>329</td>\n",
       "      <td>0.468085</td>\n",
       "      <td>0.531915</td>\n",
       "      <td>0.280510</td>\n",
       "      <td>0.511696</td>\n",
       "    </tr>\n",
       "    <tr>\n",
       "      <th>&gt; 5 members</th>\n",
       "      <td>21</td>\n",
       "      <td>4</td>\n",
       "      <td>25</td>\n",
       "      <td>0.840000</td>\n",
       "      <td>0.160000</td>\n",
       "      <td>0.038251</td>\n",
       "      <td>0.011696</td>\n",
       "    </tr>\n",
       "  </tbody>\n",
       "</table>\n",
       "</div>"
      ],
      "text/plain": [
       "survived              deceased  survived  total_count  \\\n",
       "family_members_count                                    \n",
       "No members                 374       163          537   \n",
       "≤ 5 members                154       175          329   \n",
       "> 5 members                 21         4           25   \n",
       "\n",
       "survived              deceased % (rel. to family group)  \\\n",
       "family_members_count                                      \n",
       "No members                                     0.696462   \n",
       "≤ 5 members                                    0.468085   \n",
       "> 5 members                                    0.840000   \n",
       "\n",
       "survived              survived % (rel. to family group)  \\\n",
       "family_members_count                                      \n",
       "No members                                     0.303538   \n",
       "≤ 5 members                                    0.531915   \n",
       "> 5 members                                    0.160000   \n",
       "\n",
       "survived              deceased % (rel. to total)  survived % (rel. to total)  \n",
       "family_members_count                                                          \n",
       "No members                              0.681239                    0.476608  \n",
       "≤ 5 members                             0.280510                    0.511696  \n",
       "> 5 members                             0.038251                    0.011696  "
      ]
     },
     "execution_count": 42,
     "metadata": {},
     "output_type": "execute_result"
    }
   ],
   "source": [
    "casualty_by_fam_members"
   ]
  },
  {
   "cell_type": "markdown",
   "metadata": {},
   "source": [
    "The data shows that majority of passengers who perished in the Titanic shipwreck did not have accompanying family members.\n",
    "\n",
    "We can also observe that passengers travelling with less than 5 family members had a slightly higher survival rate than other groups."
   ]
  },
  {
   "cell_type": "markdown",
   "metadata": {},
   "source": [
    "##### Casualty rate by passenger class"
   ]
  },
  {
   "cell_type": "code",
   "execution_count": 43,
   "metadata": {},
   "outputs": [
    {
     "data": {
      "text/html": [
       "<div>\n",
       "<style scoped>\n",
       "    .dataframe tbody tr th:only-of-type {\n",
       "        vertical-align: middle;\n",
       "    }\n",
       "\n",
       "    .dataframe tbody tr th {\n",
       "        vertical-align: top;\n",
       "    }\n",
       "\n",
       "    .dataframe thead th {\n",
       "        text-align: right;\n",
       "    }\n",
       "</style>\n",
       "<table border=\"1\" class=\"dataframe\">\n",
       "  <thead>\n",
       "    <tr style=\"text-align: right;\">\n",
       "      <th>survived</th>\n",
       "      <th>deceased</th>\n",
       "      <th>survived</th>\n",
       "    </tr>\n",
       "    <tr>\n",
       "      <th>passenger_class</th>\n",
       "      <th></th>\n",
       "      <th></th>\n",
       "    </tr>\n",
       "  </thead>\n",
       "  <tbody>\n",
       "    <tr>\n",
       "      <th>lower</th>\n",
       "      <td>372</td>\n",
       "      <td>119</td>\n",
       "    </tr>\n",
       "    <tr>\n",
       "      <th>middle</th>\n",
       "      <td>97</td>\n",
       "      <td>87</td>\n",
       "    </tr>\n",
       "    <tr>\n",
       "      <th>upper</th>\n",
       "      <td>80</td>\n",
       "      <td>136</td>\n",
       "    </tr>\n",
       "  </tbody>\n",
       "</table>\n",
       "</div>"
      ],
      "text/plain": [
       "survived         deceased  survived\n",
       "passenger_class                    \n",
       "lower                 372       119\n",
       "middle                 97        87\n",
       "upper                  80       136"
      ]
     },
     "execution_count": 43,
     "metadata": {},
     "output_type": "execute_result"
    }
   ],
   "source": [
    "casualty_by_class = pd.crosstab(df['passenger_class'], df['survived'])\n",
    "\n",
    "casualty_by_class"
   ]
  },
  {
   "cell_type": "code",
   "execution_count": 44,
   "metadata": {},
   "outputs": [],
   "source": [
    "# Calculating total counts and survival rate by passenger class\n",
    "casualty_by_class['total_count'] = casualty_by_class['deceased'] + casualty_by_class['survived']\n",
    "\n",
    "casualty_by_class['deceased % (rel. to pclass)'] = casualty_by_class['deceased'] / casualty_by_class['total_count']\n",
    "casualty_by_class['survived % (rel. to pclass)'] = casualty_by_class['survived'] / casualty_by_class['total_count']\n",
    "\n",
    "casualty_by_class['deceased % (rel. to total)'] = casualty_by_class['deceased'] / casualty_by_class['deceased'].sum()\n",
    "casualty_by_class['survived % (rel. to total)'] = casualty_by_class['survived'] / casualty_by_class['survived'].sum()"
   ]
  },
  {
   "cell_type": "code",
   "execution_count": 45,
   "metadata": {},
   "outputs": [
    {
     "data": {
      "image/png": "[encoded data removed]",
      "text/plain": [
       "<Figure size 1200x500 with 2 Axes>"
      ]
     },
     "metadata": {},
     "output_type": "display_data"
    }
   ],
   "source": [
    "# Visualizing casualty rate by passenger class\n",
    "fig, (ax1, ax2) = plt.subplots(nrows=1,\n",
    "                               ncols=2,\n",
    "                               figsize=(12, 5))\n",
    "\n",
    "class_labels = casualty_by_class.index + ' ' + 'class'\n",
    "\n",
    "ax1.bar(class_labels,\n",
    "        casualty_by_class['deceased'],\n",
    "        label='deceased',\n",
    "        color='sandybrown',\n",
    "        edgecolor='Black',\n",
    "        linewidth=0.5,\n",
    "        width=0.5)\n",
    "ax1.bar(class_labels,\n",
    "        casualty_by_class['survived'],\n",
    "        label='survived',\n",
    "        bottom=casualty_by_class['deceased'],\n",
    "        color='mediumseagreen',\n",
    "        edgecolor='Black',\n",
    "        linewidth=0.5,\n",
    "        width=0.5)\n",
    "\n",
    "colors = plt.cm.Oranges(casualty_by_class['deceased % (rel. to total)'] * 0.6) #increase intensity\n",
    "\n",
    "ax2.pie(casualty_by_class['deceased'],\n",
    "        labels=class_labels,\n",
    "        colors=colors,\n",
    "        autopct='%1.1f%%',\n",
    "        startangle=220,\n",
    "        wedgeprops={'edgecolor':'White',\n",
    "                    'linewidth': 0.8},\n",
    "        textprops={'fontsize':9})\n",
    "\n",
    "ax1.yaxis.grid(True,\n",
    "               alpha=0.2)\n",
    "ax1.set_axisbelow(True)\n",
    "\n",
    "ax1.set_ylabel('total count')\n",
    "ax1.legend();\n",
    "\n",
    "fig.suptitle('Casualty Rate by Passenger Class Group',\n",
    "             y=0.95,\n",
    "             fontsize=14,\n",
    "             fontweight='bold');"
   ]
  },
  {
   "cell_type": "code",
   "execution_count": 46,
   "metadata": {},
   "outputs": [
    {
     "data": {
      "text/html": [
       "<div>\n",
       "<style scoped>\n",
       "    .dataframe tbody tr th:only-of-type {\n",
       "        vertical-align: middle;\n",
       "    }\n",
       "\n",
       "    .dataframe tbody tr th {\n",
       "        vertical-align: top;\n",
       "    }\n",
       "\n",
       "    .dataframe thead th {\n",
       "        text-align: right;\n",
       "    }\n",
       "</style>\n",
       "<table border=\"1\" class=\"dataframe\">\n",
       "  <thead>\n",
       "    <tr style=\"text-align: right;\">\n",
       "      <th>survived</th>\n",
       "      <th>deceased</th>\n",
       "      <th>survived</th>\n",
       "      <th>total_count</th>\n",
       "      <th>deceased % (rel. to pclass)</th>\n",
       "      <th>survived % (rel. to pclass)</th>\n",
       "      <th>deceased % (rel. to total)</th>\n",
       "      <th>survived % (rel. to total)</th>\n",
       "    </tr>\n",
       "    <tr>\n",
       "      <th>passenger_class</th>\n",
       "      <th></th>\n",
       "      <th></th>\n",
       "      <th></th>\n",
       "      <th></th>\n",
       "      <th></th>\n",
       "      <th></th>\n",
       "      <th></th>\n",
       "    </tr>\n",
       "  </thead>\n",
       "  <tbody>\n",
       "    <tr>\n",
       "      <th>lower</th>\n",
       "      <td>372</td>\n",
       "      <td>119</td>\n",
       "      <td>491</td>\n",
       "      <td>0.757637</td>\n",
       "      <td>0.242363</td>\n",
       "      <td>0.677596</td>\n",
       "      <td>0.347953</td>\n",
       "    </tr>\n",
       "    <tr>\n",
       "      <th>middle</th>\n",
       "      <td>97</td>\n",
       "      <td>87</td>\n",
       "      <td>184</td>\n",
       "      <td>0.527174</td>\n",
       "      <td>0.472826</td>\n",
       "      <td>0.176685</td>\n",
       "      <td>0.254386</td>\n",
       "    </tr>\n",
       "    <tr>\n",
       "      <th>upper</th>\n",
       "      <td>80</td>\n",
       "      <td>136</td>\n",
       "      <td>216</td>\n",
       "      <td>0.370370</td>\n",
       "      <td>0.629630</td>\n",
       "      <td>0.145719</td>\n",
       "      <td>0.397661</td>\n",
       "    </tr>\n",
       "  </tbody>\n",
       "</table>\n",
       "</div>"
      ],
      "text/plain": [
       "survived         deceased  survived  total_count  deceased % (rel. to pclass)  \\\n",
       "passenger_class                                                                 \n",
       "lower                 372       119          491                     0.757637   \n",
       "middle                 97        87          184                     0.527174   \n",
       "upper                  80       136          216                     0.370370   \n",
       "\n",
       "survived         survived % (rel. to pclass)  deceased % (rel. to total)  \\\n",
       "passenger_class                                                            \n",
       "lower                               0.242363                    0.677596   \n",
       "middle                              0.472826                    0.176685   \n",
       "upper                               0.629630                    0.145719   \n",
       "\n",
       "survived         survived % (rel. to total)  \n",
       "passenger_class                              \n",
       "lower                              0.347953  \n",
       "middle                             0.254386  \n",
       "upper                              0.397661  "
      ]
     },
     "execution_count": 46,
     "metadata": {},
     "output_type": "execute_result"
    }
   ],
   "source": [
    "casualty_by_class"
   ]
  },
  {
   "cell_type": "markdown",
   "metadata": {},
   "source": [
    "The data shows that casualty rate was highest among lower class passengers, while middle and upper class passengers having a much higher survival rate.\n",
    "\n",
    "Almost `63%` of upper class passengers survived the Titanic shipwreck, followed by middle class passengers with approx. `47%` and lastly, lower class passengers with approx. `24%`."
   ]
  },
  {
   "cell_type": "markdown",
   "metadata": {},
   "source": [
    "##### Survival Rate by Average Fare and Passenger Class"
   ]
  },
  {
   "cell_type": "code",
   "execution_count": 47,
   "metadata": {},
   "outputs": [],
   "source": [
    "df['survived'] = df['survived'].map({'deceased': 0, 'survived': 1}).astype(int)\n",
    "\n",
    "fare_by_class = df.groupby(['passenger_class']).agg(avg_fare=('fare', 'mean'),\n",
    "                                                    survival_rate=('survived', 'mean')).sort_values(by='avg_fare',\n",
    "                                                                                                    ascending=False)"
   ]
  },
  {
   "cell_type": "code",
   "execution_count": 48,
   "metadata": {},
   "outputs": [
    {
     "data": {
      "image/png": "[encoded data removed]",
      "text/plain": [
       "<Figure size 1200x800 with 2 Axes>"
      ]
     },
     "metadata": {},
     "output_type": "display_data"
    }
   ],
   "source": [
    "# Visualzing survival rate by passenger class and average fare paid\n",
    "fig, ax = plt.subplots(figsize=(12, 8))\n",
    "\n",
    "color_map = plt.cm.Greens(fare_by_class['survival_rate'])\n",
    "\n",
    "ax.bar(fare_by_class.index,\n",
    "       fare_by_class['avg_fare'],\n",
    "       label='average fare',\n",
    "       color=color_map,\n",
    "       edgecolor='black',\n",
    "       linewidth=0.5,\n",
    "       width=0.3)\n",
    "\n",
    "ax1 = ax.twinx()\n",
    "ax1.plot(fare_by_class.index,\n",
    "         fare_by_class['survival_rate'] * 100,\n",
    "         label='survival rate (%)',\n",
    "         marker='o',\n",
    "         )\n",
    "\n",
    "ax.set_ylabel('average fare')\n",
    "ax1.set_ylabel('survival rate (%)')\n",
    "\n",
    "ax1.grid(True,\n",
    "         alpha=0.2)\n",
    "ax1.set_axisbelow(True)\n",
    "\n",
    "# Combine legends\n",
    "bar, label_fare = ax.get_legend_handles_labels()\n",
    "line, label_survival = ax1.get_legend_handles_labels()\n",
    "\n",
    "ax1.legend(bar+line, label_fare+label_survival, loc='upper right');\n",
    "\n",
    "ax1.set_title('Survival Rate by Average Fare and Passenger Class',\n",
    "             fontsize=14,\n",
    "             fontweight='bold',\n",
    "             y=1.02);"
   ]
  },
  {
   "cell_type": "code",
   "execution_count": 49,
   "metadata": {},
   "outputs": [
    {
     "data": {
      "text/html": [
       "<div>\n",
       "<style scoped>\n",
       "    .dataframe tbody tr th:only-of-type {\n",
       "        vertical-align: middle;\n",
       "    }\n",
       "\n",
       "    .dataframe tbody tr th {\n",
       "        vertical-align: top;\n",
       "    }\n",
       "\n",
       "    .dataframe thead th {\n",
       "        text-align: right;\n",
       "    }\n",
       "</style>\n",
       "<table border=\"1\" class=\"dataframe\">\n",
       "  <thead>\n",
       "    <tr style=\"text-align: right;\">\n",
       "      <th></th>\n",
       "      <th>avg_fare</th>\n",
       "      <th>survival_rate</th>\n",
       "    </tr>\n",
       "    <tr>\n",
       "      <th>passenger_class</th>\n",
       "      <th></th>\n",
       "      <th></th>\n",
       "    </tr>\n",
       "  </thead>\n",
       "  <tbody>\n",
       "    <tr>\n",
       "      <th>upper</th>\n",
       "      <td>84.154687</td>\n",
       "      <td>0.629630</td>\n",
       "    </tr>\n",
       "    <tr>\n",
       "      <th>middle</th>\n",
       "      <td>20.662183</td>\n",
       "      <td>0.472826</td>\n",
       "    </tr>\n",
       "    <tr>\n",
       "      <th>lower</th>\n",
       "      <td>13.675550</td>\n",
       "      <td>0.242363</td>\n",
       "    </tr>\n",
       "  </tbody>\n",
       "</table>\n",
       "</div>"
      ],
      "text/plain": [
       "                  avg_fare  survival_rate\n",
       "passenger_class                          \n",
       "upper            84.154687       0.629630\n",
       "middle           20.662183       0.472826\n",
       "lower            13.675550       0.242363"
      ]
     },
     "execution_count": 49,
     "metadata": {},
     "output_type": "execute_result"
    }
   ],
   "source": [
    "fare_by_class"
   ]
  },
  {
   "cell_type": "markdown",
   "metadata": {},
   "source": [
    "The graph shows a correlation between passenger class and survival rate, with upper class passenger having the highest survival rate and average fare paid by a large margin, compared to the middle and lower class. This suggests that passenger class and socio-economic status was a significant factor in survival."
   ]
  },
  {
   "cell_type": "markdown",
   "metadata": {},
   "source": [
    "### Decision Tree"
   ]
  },
  {
   "cell_type": "markdown",
   "metadata": {},
   "source": [
    "Based on our findings so far, we can highlight the top 3 most important features contributing to passengers' survival rate in the Titanic dataset as follows: \n",
    "\n",
    "1. `Gender`\n",
    "2. `Age group`\n",
    "3. `Socio-economic class`"
   ]
  },
  {
   "cell_type": "markdown",
   "metadata": {},
   "source": [
    "![](Titanic_Decision_Tree.png)"
   ]
  },
  {
   "cell_type": "markdown",
   "metadata": {},
   "source": [
    "We'll be revisiting the significance of these features later on as part of our <b>Predictive Analysis</b> and <b>Feature Importances</b>."
   ]
  }
 ],
 "metadata": {
  "kernelspec": {
   "display_name": "Python 3 (ipykernel)",
   "language": "python",
   "name": "python3"
  },
  "language_info": {
   "codemirror_mode": {
    "name": "ipython",
    "version": 3
   },
   "file_extension": ".py",
   "mimetype": "text/x-python",
   "name": "python",
   "nbconvert_exporter": "python",
   "pygments_lexer": "ipython3",
   "version": "3.12.2"
  }
 },
 "nbformat": 4,
 "nbformat_minor": 4
}
