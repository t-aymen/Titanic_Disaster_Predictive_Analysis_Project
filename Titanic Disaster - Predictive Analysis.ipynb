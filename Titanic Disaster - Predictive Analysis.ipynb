{
 "cells": [
  {
   "cell_type": "markdown",
   "id": "109691d0-d0f0-426e-a2ce-e060d504078a",
   "metadata": {},
   "source": [
    "# Titanic Disaster (Part II) - Predictive Analysis"
   ]
  },
  {
   "cell_type": "markdown",
   "id": "2dd841f7-e8d9-4bd6-a070-bb4c5dd20e04",
   "metadata": {},
   "source": [
    "## Modelling\n",
    "\n",
    "For this predictive analysis, we'll be using one the Scikit-Learn Ensemble models, namely the <b>Random Forest Classifier</b> to predict passengers' survival rate in the Titanic dataset.\n",
    "\n",
    "Here is an overview of each step involved:\n",
    "\n",
    "1. Data Preparation\n",
    "3. Data Preprocessing\n",
    "4. Fit Model to Data\n",
    "5. Hyperparameters Tuning\n",
    "6. Make Predictions\n",
    "7. Evaluation\n",
    "    * `Cross Validation`\n",
    "    * `ROC Curve` and `AUC Score`\n",
    "    * `Confusion Matrix`\n",
    "    * `Classification Report`\n",
    "8. Feature Importances\n",
    "9. Saving and Exporting model"
   ]
  },
  {
   "cell_type": "markdown",
   "id": "b62f25f8-36aa-4d61-8899-cc281dbee17f",
   "metadata": {},
   "source": [
    "## 1. Data Preparation"
   ]
  },
  {
   "cell_type": "markdown",
   "id": "64709af0-395f-4822-9ef6-52233cde94c8",
   "metadata": {},
   "source": [
    "#### Importing Tools and Data"
   ]
  },
  {
   "cell_type": "code",
   "execution_count": 1,
   "id": "acccfc00-bd42-49c6-8743-9b6d43361411",
   "metadata": {},
   "outputs": [],
   "source": [
    "import pandas as pd\n",
    "import numpy as np\n",
    "import matplotlib.pyplot as plt\n",
    "import sklearn"
   ]
  },
  {
   "cell_type": "code",
   "execution_count": 2,
   "id": "77b5a439-1e9b-4e91-99e9-d7c2ed43ffd5",
   "metadata": {},
   "outputs": [],
   "source": [
    "df_train = pd.read_csv('Data/train_data.csv')\n",
    "df_test = pd.read_csv('Data/test_data.csv')\n",
    "val = pd.read_csv('Data/gender_submission.csv')"
   ]
  },
  {
   "cell_type": "code",
   "execution_count": 3,
   "id": "fe9f6e6c-ada0-4f20-9cc4-d8c71993ab18",
   "metadata": {},
   "outputs": [
    {
     "data": {
      "text/html": [
       "<div>\n",
       "<style scoped>\n",
       "    .dataframe tbody tr th:only-of-type {\n",
       "        vertical-align: middle;\n",
       "    }\n",
       "\n",
       "    .dataframe tbody tr th {\n",
       "        vertical-align: top;\n",
       "    }\n",
       "\n",
       "    .dataframe thead th {\n",
       "        text-align: right;\n",
       "    }\n",
       "</style>\n",
       "<table border=\"1\" class=\"dataframe\">\n",
       "  <thead>\n",
       "    <tr style=\"text-align: right;\">\n",
       "      <th></th>\n",
       "      <th>PassengerId</th>\n",
       "      <th>Survived</th>\n",
       "      <th>Pclass</th>\n",
       "      <th>Name</th>\n",
       "      <th>Sex</th>\n",
       "      <th>Age</th>\n",
       "      <th>SibSp</th>\n",
       "      <th>Parch</th>\n",
       "      <th>Ticket</th>\n",
       "      <th>Fare</th>\n",
       "      <th>Cabin</th>\n",
       "      <th>Embarked</th>\n",
       "    </tr>\n",
       "  </thead>\n",
       "  <tbody>\n",
       "    <tr>\n",
       "      <th>0</th>\n",
       "      <td>1</td>\n",
       "      <td>0</td>\n",
       "      <td>3</td>\n",
       "      <td>Braund, Mr. Owen Harris</td>\n",
       "      <td>male</td>\n",
       "      <td>22.0</td>\n",
       "      <td>1</td>\n",
       "      <td>0</td>\n",
       "      <td>A/5 21171</td>\n",
       "      <td>7.2500</td>\n",
       "      <td>NaN</td>\n",
       "      <td>S</td>\n",
       "    </tr>\n",
       "    <tr>\n",
       "      <th>1</th>\n",
       "      <td>2</td>\n",
       "      <td>1</td>\n",
       "      <td>1</td>\n",
       "      <td>Cumings, Mrs. John Bradley (Florence Briggs Th...</td>\n",
       "      <td>female</td>\n",
       "      <td>38.0</td>\n",
       "      <td>1</td>\n",
       "      <td>0</td>\n",
       "      <td>PC 17599</td>\n",
       "      <td>71.2833</td>\n",
       "      <td>C85</td>\n",
       "      <td>C</td>\n",
       "    </tr>\n",
       "    <tr>\n",
       "      <th>2</th>\n",
       "      <td>3</td>\n",
       "      <td>1</td>\n",
       "      <td>3</td>\n",
       "      <td>Heikkinen, Miss. Laina</td>\n",
       "      <td>female</td>\n",
       "      <td>26.0</td>\n",
       "      <td>0</td>\n",
       "      <td>0</td>\n",
       "      <td>STON/O2. 3101282</td>\n",
       "      <td>7.9250</td>\n",
       "      <td>NaN</td>\n",
       "      <td>S</td>\n",
       "    </tr>\n",
       "    <tr>\n",
       "      <th>3</th>\n",
       "      <td>4</td>\n",
       "      <td>1</td>\n",
       "      <td>1</td>\n",
       "      <td>Futrelle, Mrs. Jacques Heath (Lily May Peel)</td>\n",
       "      <td>female</td>\n",
       "      <td>35.0</td>\n",
       "      <td>1</td>\n",
       "      <td>0</td>\n",
       "      <td>113803</td>\n",
       "      <td>53.1000</td>\n",
       "      <td>C123</td>\n",
       "      <td>S</td>\n",
       "    </tr>\n",
       "    <tr>\n",
       "      <th>4</th>\n",
       "      <td>5</td>\n",
       "      <td>0</td>\n",
       "      <td>3</td>\n",
       "      <td>Allen, Mr. William Henry</td>\n",
       "      <td>male</td>\n",
       "      <td>35.0</td>\n",
       "      <td>0</td>\n",
       "      <td>0</td>\n",
       "      <td>373450</td>\n",
       "      <td>8.0500</td>\n",
       "      <td>NaN</td>\n",
       "      <td>S</td>\n",
       "    </tr>\n",
       "  </tbody>\n",
       "</table>\n",
       "</div>"
      ],
      "text/plain": [
       "   PassengerId  Survived  Pclass  \\\n",
       "0            1         0       3   \n",
       "1            2         1       1   \n",
       "2            3         1       3   \n",
       "3            4         1       1   \n",
       "4            5         0       3   \n",
       "\n",
       "                                                Name     Sex   Age  SibSp  \\\n",
       "0                            Braund, Mr. Owen Harris    male  22.0      1   \n",
       "1  Cumings, Mrs. John Bradley (Florence Briggs Th...  female  38.0      1   \n",
       "2                             Heikkinen, Miss. Laina  female  26.0      0   \n",
       "3       Futrelle, Mrs. Jacques Heath (Lily May Peel)  female  35.0      1   \n",
       "4                           Allen, Mr. William Henry    male  35.0      0   \n",
       "\n",
       "   Parch            Ticket     Fare Cabin Embarked  \n",
       "0      0         A/5 21171   7.2500   NaN        S  \n",
       "1      0          PC 17599  71.2833   C85        C  \n",
       "2      0  STON/O2. 3101282   7.9250   NaN        S  \n",
       "3      0            113803  53.1000  C123        S  \n",
       "4      0            373450   8.0500   NaN        S  "
      ]
     },
     "execution_count": 3,
     "metadata": {},
     "output_type": "execute_result"
    }
   ],
   "source": [
    "df_train.head()"
   ]
  },
  {
   "cell_type": "code",
   "execution_count": 4,
   "id": "ef1656e3-6b02-48ca-864b-14fcc5006b2d",
   "metadata": {},
   "outputs": [
    {
     "data": {
      "text/html": [
       "<div>\n",
       "<style scoped>\n",
       "    .dataframe tbody tr th:only-of-type {\n",
       "        vertical-align: middle;\n",
       "    }\n",
       "\n",
       "    .dataframe tbody tr th {\n",
       "        vertical-align: top;\n",
       "    }\n",
       "\n",
       "    .dataframe thead th {\n",
       "        text-align: right;\n",
       "    }\n",
       "</style>\n",
       "<table border=\"1\" class=\"dataframe\">\n",
       "  <thead>\n",
       "    <tr style=\"text-align: right;\">\n",
       "      <th></th>\n",
       "      <th>PassengerId</th>\n",
       "      <th>Pclass</th>\n",
       "      <th>Name</th>\n",
       "      <th>Sex</th>\n",
       "      <th>Age</th>\n",
       "      <th>SibSp</th>\n",
       "      <th>Parch</th>\n",
       "      <th>Ticket</th>\n",
       "      <th>Fare</th>\n",
       "      <th>Cabin</th>\n",
       "      <th>Embarked</th>\n",
       "    </tr>\n",
       "  </thead>\n",
       "  <tbody>\n",
       "    <tr>\n",
       "      <th>0</th>\n",
       "      <td>892</td>\n",
       "      <td>3</td>\n",
       "      <td>Kelly, Mr. James</td>\n",
       "      <td>male</td>\n",
       "      <td>34.5</td>\n",
       "      <td>0</td>\n",
       "      <td>0</td>\n",
       "      <td>330911</td>\n",
       "      <td>7.8292</td>\n",
       "      <td>NaN</td>\n",
       "      <td>Q</td>\n",
       "    </tr>\n",
       "    <tr>\n",
       "      <th>1</th>\n",
       "      <td>893</td>\n",
       "      <td>3</td>\n",
       "      <td>Wilkes, Mrs. James (Ellen Needs)</td>\n",
       "      <td>female</td>\n",
       "      <td>47.0</td>\n",
       "      <td>1</td>\n",
       "      <td>0</td>\n",
       "      <td>363272</td>\n",
       "      <td>7.0000</td>\n",
       "      <td>NaN</td>\n",
       "      <td>S</td>\n",
       "    </tr>\n",
       "    <tr>\n",
       "      <th>2</th>\n",
       "      <td>894</td>\n",
       "      <td>2</td>\n",
       "      <td>Myles, Mr. Thomas Francis</td>\n",
       "      <td>male</td>\n",
       "      <td>62.0</td>\n",
       "      <td>0</td>\n",
       "      <td>0</td>\n",
       "      <td>240276</td>\n",
       "      <td>9.6875</td>\n",
       "      <td>NaN</td>\n",
       "      <td>Q</td>\n",
       "    </tr>\n",
       "    <tr>\n",
       "      <th>3</th>\n",
       "      <td>895</td>\n",
       "      <td>3</td>\n",
       "      <td>Wirz, Mr. Albert</td>\n",
       "      <td>male</td>\n",
       "      <td>27.0</td>\n",
       "      <td>0</td>\n",
       "      <td>0</td>\n",
       "      <td>315154</td>\n",
       "      <td>8.6625</td>\n",
       "      <td>NaN</td>\n",
       "      <td>S</td>\n",
       "    </tr>\n",
       "    <tr>\n",
       "      <th>4</th>\n",
       "      <td>896</td>\n",
       "      <td>3</td>\n",
       "      <td>Hirvonen, Mrs. Alexander (Helga E Lindqvist)</td>\n",
       "      <td>female</td>\n",
       "      <td>22.0</td>\n",
       "      <td>1</td>\n",
       "      <td>1</td>\n",
       "      <td>3101298</td>\n",
       "      <td>12.2875</td>\n",
       "      <td>NaN</td>\n",
       "      <td>S</td>\n",
       "    </tr>\n",
       "  </tbody>\n",
       "</table>\n",
       "</div>"
      ],
      "text/plain": [
       "   PassengerId  Pclass                                          Name     Sex  \\\n",
       "0          892       3                              Kelly, Mr. James    male   \n",
       "1          893       3              Wilkes, Mrs. James (Ellen Needs)  female   \n",
       "2          894       2                     Myles, Mr. Thomas Francis    male   \n",
       "3          895       3                              Wirz, Mr. Albert    male   \n",
       "4          896       3  Hirvonen, Mrs. Alexander (Helga E Lindqvist)  female   \n",
       "\n",
       "    Age  SibSp  Parch   Ticket     Fare Cabin Embarked  \n",
       "0  34.5      0      0   330911   7.8292   NaN        Q  \n",
       "1  47.0      1      0   363272   7.0000   NaN        S  \n",
       "2  62.0      0      0   240276   9.6875   NaN        Q  \n",
       "3  27.0      0      0   315154   8.6625   NaN        S  \n",
       "4  22.0      1      1  3101298  12.2875   NaN        S  "
      ]
     },
     "execution_count": 4,
     "metadata": {},
     "output_type": "execute_result"
    }
   ],
   "source": [
    "df_test.head()"
   ]
  },
  {
   "cell_type": "code",
   "execution_count": 5,
   "id": "eebbb22f-fcf4-4955-9034-45a3e4949394",
   "metadata": {},
   "outputs": [
    {
     "data": {
      "text/html": [
       "<div>\n",
       "<style scoped>\n",
       "    .dataframe tbody tr th:only-of-type {\n",
       "        vertical-align: middle;\n",
       "    }\n",
       "\n",
       "    .dataframe tbody tr th {\n",
       "        vertical-align: top;\n",
       "    }\n",
       "\n",
       "    .dataframe thead th {\n",
       "        text-align: right;\n",
       "    }\n",
       "</style>\n",
       "<table border=\"1\" class=\"dataframe\">\n",
       "  <thead>\n",
       "    <tr style=\"text-align: right;\">\n",
       "      <th></th>\n",
       "      <th>PassengerId</th>\n",
       "      <th>Survived</th>\n",
       "    </tr>\n",
       "  </thead>\n",
       "  <tbody>\n",
       "    <tr>\n",
       "      <th>0</th>\n",
       "      <td>892</td>\n",
       "      <td>0</td>\n",
       "    </tr>\n",
       "    <tr>\n",
       "      <th>1</th>\n",
       "      <td>893</td>\n",
       "      <td>1</td>\n",
       "    </tr>\n",
       "    <tr>\n",
       "      <th>2</th>\n",
       "      <td>894</td>\n",
       "      <td>0</td>\n",
       "    </tr>\n",
       "    <tr>\n",
       "      <th>3</th>\n",
       "      <td>895</td>\n",
       "      <td>0</td>\n",
       "    </tr>\n",
       "    <tr>\n",
       "      <th>4</th>\n",
       "      <td>896</td>\n",
       "      <td>1</td>\n",
       "    </tr>\n",
       "  </tbody>\n",
       "</table>\n",
       "</div>"
      ],
      "text/plain": [
       "   PassengerId  Survived\n",
       "0          892         0\n",
       "1          893         1\n",
       "2          894         0\n",
       "3          895         0\n",
       "4          896         1"
      ]
     },
     "execution_count": 5,
     "metadata": {},
     "output_type": "execute_result"
    }
   ],
   "source": [
    "val.head()"
   ]
  },
  {
   "cell_type": "code",
   "execution_count": 6,
   "id": "650feda6-9797-4d00-8708-471326fefa39",
   "metadata": {},
   "outputs": [],
   "source": [
    "# Removing unnecessary columns\n",
    "columns_to_remove = ['PassengerId', 'Name', 'Ticket', 'Cabin']\n",
    "\n",
    "df_train = df_train.drop(columns=columns_to_remove)\n",
    "df_test = df_test.drop(columns=columns_to_remove)"
   ]
  },
  {
   "cell_type": "code",
   "execution_count": 7,
   "id": "222b4d6b-e226-41f5-874b-4830c2feaf46",
   "metadata": {},
   "outputs": [
    {
     "data": {
      "text/plain": [
       "(Survived      0\n",
       " Pclass        0\n",
       " Sex           0\n",
       " Age         177\n",
       " SibSp         0\n",
       " Parch         0\n",
       " Fare          0\n",
       " Embarked      2\n",
       " dtype: int64,\n",
       " Pclass       0\n",
       " Sex          0\n",
       " Age         86\n",
       " SibSp        0\n",
       " Parch        0\n",
       " Fare         1\n",
       " Embarked     0\n",
       " dtype: int64)"
      ]
     },
     "execution_count": 7,
     "metadata": {},
     "output_type": "execute_result"
    }
   ],
   "source": [
    "# Checking missing values for train and test sets\n",
    "df_train.isna().sum(), df_test.isna().sum()"
   ]
  },
  {
   "cell_type": "code",
   "execution_count": 8,
   "id": "6706b166-07d7-4933-9ddb-813e6305b4f3",
   "metadata": {},
   "outputs": [],
   "source": [
    "# Handling missing values using Scikit-Learn SimpleImputer\n",
    "from sklearn.impute import SimpleImputer\n",
    "from sklearn.compose import ColumnTransformer\n",
    "\n",
    "# Setup imputers with strategies\n",
    "cat_imputer = SimpleImputer(strategy='most_frequent')\n",
    "num_imputer = SimpleImputer(strategy='median')\n",
    "\n",
    "# Impute missing numerical values\n",
    "df_train[['Age', 'Fare']] = num_imputer.fit_transform(df_train[['Age', 'Fare']])\n",
    "df_test[['Age', 'Fare']] = num_imputer.transform(df_test[['Age', 'Fare']])\n",
    "\n",
    "# Impute missing categorical values\n",
    "df_train[['Embarked']] = cat_imputer.fit_transform(df_train[['Embarked']])"
   ]
  },
  {
   "cell_type": "code",
   "execution_count": 9,
   "id": "9f3d9274-5f75-42e6-8078-d0e1aa6426c0",
   "metadata": {},
   "outputs": [
    {
     "data": {
      "text/plain": [
       "(Survived    0\n",
       " Pclass      0\n",
       " Sex         0\n",
       " Age         0\n",
       " SibSp       0\n",
       " Parch       0\n",
       " Fare        0\n",
       " Embarked    0\n",
       " dtype: int64,\n",
       " Pclass      0\n",
       " Sex         0\n",
       " Age         0\n",
       " SibSp       0\n",
       " Parch       0\n",
       " Fare        0\n",
       " Embarked    0\n",
       " dtype: int64)"
      ]
     },
     "execution_count": 9,
     "metadata": {},
     "output_type": "execute_result"
    }
   ],
   "source": [
    "df_train.isna().sum(), df_test.isna().sum()"
   ]
  },
  {
   "cell_type": "markdown",
   "id": "06a5f1a8-48bf-4148-870e-6597d3a4fccd",
   "metadata": {},
   "source": [
    "## 2. Data Preprocessing"
   ]
  },
  {
   "cell_type": "code",
   "execution_count": 10,
   "id": "0e301611-3aef-4e03-9e01-9f197a6290bb",
   "metadata": {},
   "outputs": [],
   "source": [
    "# Splitting train data into features and labels\n",
    "X_train = df_train.drop('Survived', axis=1)\n",
    "y_train = df_train['Survived']"
   ]
  },
  {
   "cell_type": "code",
   "execution_count": 11,
   "id": "f26ebdf3-2402-4518-899e-324c202d805c",
   "metadata": {},
   "outputs": [],
   "source": [
    "# Features encoding\n",
    "from sklearn.preprocessing import OneHotEncoder\n",
    "\n",
    "cat_features = ['Pclass', 'Sex', 'Embarked']\n",
    "\n",
    "one_hot = OneHotEncoder()\n",
    "\n",
    "enc_transformer = ColumnTransformer([\n",
    "    ('one_hot', one_hot, cat_features)\n",
    "], remainder='passthrough')\n",
    "\n",
    "train_data_encoded = enc_transformer.fit_transform(X_train)\n",
    "test_data_encoded = enc_transformer.transform(df_test)"
   ]
  },
  {
   "cell_type": "code",
   "execution_count": 12,
   "id": "817c5228-8305-428c-b206-b2365902fb22",
   "metadata": {},
   "outputs": [
    {
     "data": {
      "text/plain": [
       "(array([[ 0.    ,  0.    ,  1.    ,  0.    ,  1.    ,  0.    ,  0.    ,\n",
       "          1.    , 22.    ,  1.    ,  0.    ,  7.25  ],\n",
       "        [ 1.    ,  0.    ,  0.    ,  1.    ,  0.    ,  1.    ,  0.    ,\n",
       "          0.    , 38.    ,  1.    ,  0.    , 71.2833],\n",
       "        [ 0.    ,  0.    ,  1.    ,  1.    ,  0.    ,  0.    ,  0.    ,\n",
       "          1.    , 26.    ,  0.    ,  0.    ,  7.925 ],\n",
       "        [ 1.    ,  0.    ,  0.    ,  1.    ,  0.    ,  0.    ,  0.    ,\n",
       "          1.    , 35.    ,  1.    ,  0.    , 53.1   ],\n",
       "        [ 0.    ,  0.    ,  1.    ,  0.    ,  1.    ,  0.    ,  0.    ,\n",
       "          1.    , 35.    ,  0.    ,  0.    ,  8.05  ]]),\n",
       " array([[ 0.    ,  0.    ,  1.    ,  0.    ,  1.    ,  0.    ,  1.    ,\n",
       "          0.    , 34.5   ,  0.    ,  0.    ,  7.8292],\n",
       "        [ 0.    ,  0.    ,  1.    ,  1.    ,  0.    ,  0.    ,  0.    ,\n",
       "          1.    , 47.    ,  1.    ,  0.    ,  7.    ],\n",
       "        [ 0.    ,  1.    ,  0.    ,  0.    ,  1.    ,  0.    ,  1.    ,\n",
       "          0.    , 62.    ,  0.    ,  0.    ,  9.6875],\n",
       "        [ 0.    ,  0.    ,  1.    ,  0.    ,  1.    ,  0.    ,  0.    ,\n",
       "          1.    , 27.    ,  0.    ,  0.    ,  8.6625],\n",
       "        [ 0.    ,  0.    ,  1.    ,  1.    ,  0.    ,  0.    ,  0.    ,\n",
       "          1.    , 22.    ,  1.    ,  1.    , 12.2875]]))"
      ]
     },
     "execution_count": 12,
     "metadata": {},
     "output_type": "execute_result"
    }
   ],
   "source": [
    "train_data_encoded[:5], test_data_encoded[:5]"
   ]
  },
  {
   "cell_type": "markdown",
   "id": "d3f1ed20-dbd6-49b9-b60c-6dfe24704b98",
   "metadata": {},
   "source": [
    "## 3. Fit Model to Data"
   ]
  },
  {
   "cell_type": "code",
   "execution_count": 13,
   "id": "c95fe754-84e3-4df5-99cc-45f03581d0de",
   "metadata": {},
   "outputs": [],
   "source": [
    "# fitting model to train data\n",
    "from sklearn.ensemble import RandomForestClassifier\n",
    "\n",
    "# Setting static seed (for reproduceability)\n",
    "np.random.seed(21)\n",
    "\n",
    "clf = RandomForestClassifier().fit(train_data_encoded, y_train)"
   ]
  },
  {
   "cell_type": "code",
   "execution_count": 14,
   "id": "b908fec0-b1f2-4ff9-a812-8fe30d86654d",
   "metadata": {},
   "outputs": [],
   "source": [
    "# Making a copy of the test data\n",
    "X_test = test_data_encoded.copy()"
   ]
  },
  {
   "cell_type": "code",
   "execution_count": 15,
   "id": "c0c18fb6-3a76-488d-881e-31f92b81a86a",
   "metadata": {},
   "outputs": [],
   "source": [
    "# Getting the true labels in the correct format\n",
    "true_labels = np.array(val['Survived'])"
   ]
  },
  {
   "cell_type": "code",
   "execution_count": 16,
   "id": "79a27069-7ce2-4033-99e0-1e2253f8b5e3",
   "metadata": {},
   "outputs": [
    {
     "data": {
      "text/plain": [
       "0.8229665071770335"
      ]
     },
     "execution_count": 16,
     "metadata": {},
     "output_type": "execute_result"
    }
   ],
   "source": [
    "# Calculating the model's performance\n",
    "acc_score = clf.score(X_test, true_labels)\n",
    "\n",
    "acc_score"
   ]
  },
  {
   "cell_type": "markdown",
   "id": "13ca037e-57bf-4712-9668-75951d3cad0c",
   "metadata": {},
   "source": [
    "## 4. Hyperparameters Tuning"
   ]
  },
  {
   "cell_type": "code",
   "execution_count": 17,
   "id": "a46802da-0685-49e0-a86c-fd2b09d5477c",
   "metadata": {},
   "outputs": [
    {
     "data": {
      "text/html": [
       "<style>#sk-container-id-1 {color: black;}#sk-container-id-1 pre{padding: 0;}#sk-container-id-1 div.sk-toggleable {background-color: white;}#sk-container-id-1 label.sk-toggleable__label {cursor: pointer;display: block;width: 100%;margin-bottom: 0;padding: 0.3em;box-sizing: border-box;text-align: center;}#sk-container-id-1 label.sk-toggleable__label-arrow:before {content: \"▸\";float: left;margin-right: 0.25em;color: #696969;}#sk-container-id-1 label.sk-toggleable__label-arrow:hover:before {color: black;}#sk-container-id-1 div.sk-estimator:hover label.sk-toggleable__label-arrow:before {color: black;}#sk-container-id-1 div.sk-toggleable__content {max-height: 0;max-width: 0;overflow: hidden;text-align: left;background-color: #f0f8ff;}#sk-container-id-1 div.sk-toggleable__content pre {margin: 0.2em;color: black;border-radius: 0.25em;background-color: #f0f8ff;}#sk-container-id-1 input.sk-toggleable__control:checked~div.sk-toggleable__content {max-height: 200px;max-width: 100%;overflow: auto;}#sk-container-id-1 input.sk-toggleable__control:checked~label.sk-toggleable__label-arrow:before {content: \"▾\";}#sk-container-id-1 div.sk-estimator input.sk-toggleable__control:checked~label.sk-toggleable__label {background-color: #d4ebff;}#sk-container-id-1 div.sk-label input.sk-toggleable__control:checked~label.sk-toggleable__label {background-color: #d4ebff;}#sk-container-id-1 input.sk-hidden--visually {border: 0;clip: rect(1px 1px 1px 1px);clip: rect(1px, 1px, 1px, 1px);height: 1px;margin: -1px;overflow: hidden;padding: 0;position: absolute;width: 1px;}#sk-container-id-1 div.sk-estimator {font-family: monospace;background-color: #f0f8ff;border: 1px dotted black;border-radius: 0.25em;box-sizing: border-box;margin-bottom: 0.5em;}#sk-container-id-1 div.sk-estimator:hover {background-color: #d4ebff;}#sk-container-id-1 div.sk-parallel-item::after {content: \"\";width: 100%;border-bottom: 1px solid gray;flex-grow: 1;}#sk-container-id-1 div.sk-label:hover label.sk-toggleable__label {background-color: #d4ebff;}#sk-container-id-1 div.sk-serial::before {content: \"\";position: absolute;border-left: 1px solid gray;box-sizing: border-box;top: 0;bottom: 0;left: 50%;z-index: 0;}#sk-container-id-1 div.sk-serial {display: flex;flex-direction: column;align-items: center;background-color: white;padding-right: 0.2em;padding-left: 0.2em;position: relative;}#sk-container-id-1 div.sk-item {position: relative;z-index: 1;}#sk-container-id-1 div.sk-parallel {display: flex;align-items: stretch;justify-content: center;background-color: white;position: relative;}#sk-container-id-1 div.sk-item::before, #sk-container-id-1 div.sk-parallel-item::before {content: \"\";position: absolute;border-left: 1px solid gray;box-sizing: border-box;top: 0;bottom: 0;left: 50%;z-index: -1;}#sk-container-id-1 div.sk-parallel-item {display: flex;flex-direction: column;z-index: 1;position: relative;background-color: white;}#sk-container-id-1 div.sk-parallel-item:first-child::after {align-self: flex-end;width: 50%;}#sk-container-id-1 div.sk-parallel-item:last-child::after {align-self: flex-start;width: 50%;}#sk-container-id-1 div.sk-parallel-item:only-child::after {width: 0;}#sk-container-id-1 div.sk-dashed-wrapped {border: 1px dashed gray;margin: 0 0.4em 0.5em 0.4em;box-sizing: border-box;padding-bottom: 0.4em;background-color: white;}#sk-container-id-1 div.sk-label label {font-family: monospace;font-weight: bold;display: inline-block;line-height: 1.2em;}#sk-container-id-1 div.sk-label-container {text-align: center;}#sk-container-id-1 div.sk-container {/* jupyter's `normalize.less` sets `[hidden] { display: none; }` but bootstrap.min.css set `[hidden] { display: none !important; }` so we also need the `!important` here to be able to override the default hidden behavior on the sphinx rendered scikit-learn.org. See: https://github.com/scikit-learn/scikit-learn/issues/21755 */display: inline-block !important;position: relative;}#sk-container-id-1 div.sk-text-repr-fallback {display: none;}</style><div id=\"sk-container-id-1\" class=\"sk-top-container\"><div class=\"sk-text-repr-fallback\"><pre>GridSearchCV(cv=5, estimator=RandomForestClassifier(), n_jobs=-1,\n",
       "             param_grid={&#x27;max_depth&#x27;: [None, 10, 20, 30],\n",
       "                         &#x27;max_features&#x27;: [None, &#x27;sqrt&#x27;, &#x27;log2&#x27;],\n",
       "                         &#x27;min_samples_leaf&#x27;: [1, 2, 4],\n",
       "                         &#x27;min_samples_split&#x27;: [2, 5, 10],\n",
       "                         &#x27;n_estimators&#x27;: [100, 200, 300]},\n",
       "             scoring=&#x27;accuracy&#x27;)</pre><b>In a Jupyter environment, please rerun this cell to show the HTML representation or trust the notebook. <br />On GitHub, the HTML representation is unable to render, please try loading this page with nbviewer.org.</b></div><div class=\"sk-container\" hidden><div class=\"sk-item sk-dashed-wrapped\"><div class=\"sk-label-container\"><div class=\"sk-label sk-toggleable\"><input class=\"sk-toggleable__control sk-hidden--visually\" id=\"sk-estimator-id-1\" type=\"checkbox\" ><label for=\"sk-estimator-id-1\" class=\"sk-toggleable__label sk-toggleable__label-arrow\">GridSearchCV</label><div class=\"sk-toggleable__content\"><pre>GridSearchCV(cv=5, estimator=RandomForestClassifier(), n_jobs=-1,\n",
       "             param_grid={&#x27;max_depth&#x27;: [None, 10, 20, 30],\n",
       "                         &#x27;max_features&#x27;: [None, &#x27;sqrt&#x27;, &#x27;log2&#x27;],\n",
       "                         &#x27;min_samples_leaf&#x27;: [1, 2, 4],\n",
       "                         &#x27;min_samples_split&#x27;: [2, 5, 10],\n",
       "                         &#x27;n_estimators&#x27;: [100, 200, 300]},\n",
       "             scoring=&#x27;accuracy&#x27;)</pre></div></div></div><div class=\"sk-parallel\"><div class=\"sk-parallel-item\"><div class=\"sk-item\"><div class=\"sk-label-container\"><div class=\"sk-label sk-toggleable\"><input class=\"sk-toggleable__control sk-hidden--visually\" id=\"sk-estimator-id-2\" type=\"checkbox\" ><label for=\"sk-estimator-id-2\" class=\"sk-toggleable__label sk-toggleable__label-arrow\">estimator: RandomForestClassifier</label><div class=\"sk-toggleable__content\"><pre>RandomForestClassifier()</pre></div></div></div><div class=\"sk-serial\"><div class=\"sk-item\"><div class=\"sk-estimator sk-toggleable\"><input class=\"sk-toggleable__control sk-hidden--visually\" id=\"sk-estimator-id-3\" type=\"checkbox\" ><label for=\"sk-estimator-id-3\" class=\"sk-toggleable__label sk-toggleable__label-arrow\">RandomForestClassifier</label><div class=\"sk-toggleable__content\"><pre>RandomForestClassifier()</pre></div></div></div></div></div></div></div></div></div></div>"
      ],
      "text/plain": [
       "GridSearchCV(cv=5, estimator=RandomForestClassifier(), n_jobs=-1,\n",
       "             param_grid={'max_depth': [None, 10, 20, 30],\n",
       "                         'max_features': [None, 'sqrt', 'log2'],\n",
       "                         'min_samples_leaf': [1, 2, 4],\n",
       "                         'min_samples_split': [2, 5, 10],\n",
       "                         'n_estimators': [100, 200, 300]},\n",
       "             scoring='accuracy')"
      ]
     },
     "execution_count": 17,
     "metadata": {},
     "output_type": "execute_result"
    }
   ],
   "source": [
    "# Using GridSearchCV()\n",
    "from sklearn.model_selection import GridSearchCV\n",
    "\n",
    "# Creating a paramaters grid\n",
    "params_grid = {'n_estimators': [100, 200, 300],\n",
    "               'max_depth': [None, 10, 20, 30],\n",
    "               'min_samples_split': [2, 5, 10],\n",
    "               'min_samples_leaf': [1, 2, 4],\n",
    "               'max_features': [None, 'sqrt', 'log2']}\n",
    "\n",
    "# Instantiating a GridSearchCV\n",
    "gs_rf = GridSearchCV(estimator=clf,\n",
    "                     param_grid=params_grid,\n",
    "                     cv=5,\n",
    "                     scoring='accuracy',\n",
    "                     n_jobs=-1)\n",
    "\n",
    "# Fitting GridSearchCV to data\n",
    "gs_rf.fit(train_data_encoded, y_train)"
   ]
  },
  {
   "cell_type": "code",
   "execution_count": 18,
   "id": "86494ee1-6883-4702-9f15-f7dcd6bdad2a",
   "metadata": {},
   "outputs": [
    {
     "data": {
      "text/plain": [
       "({'max_depth': 30,\n",
       "  'max_features': None,\n",
       "  'min_samples_leaf': 1,\n",
       "  'min_samples_split': 10,\n",
       "  'n_estimators': 200},\n",
       " 0.8406691356474798)"
      ]
     },
     "execution_count": 18,
     "metadata": {},
     "output_type": "execute_result"
    }
   ],
   "source": [
    "# Checking best params and best score\n",
    "gs_rf.best_params_, gs_rf.best_score_"
   ]
  },
  {
   "cell_type": "markdown",
   "id": "4f8b938b-4f1a-40f2-80d4-f50a4c45e816",
   "metadata": {},
   "source": [
    "Our tuned model saw an increase of approx. `2%` in accuracy score. But there's more room to improve."
   ]
  },
  {
   "cell_type": "markdown",
   "id": "e84402c7-54c0-407c-9527-181e4a89c7ee",
   "metadata": {},
   "source": [
    "## 5. Make Predictions"
   ]
  },
  {
   "cell_type": "code",
   "execution_count": 19,
   "id": "41d24029-8b9b-4075-9dc1-0ef8852fdc8c",
   "metadata": {},
   "outputs": [
    {
     "data": {
      "text/plain": [
       "array([0, 0, 0, 0, 1], dtype=int64)"
      ]
     },
     "execution_count": 19,
     "metadata": {},
     "output_type": "execute_result"
    }
   ],
   "source": [
    "# Making predictions\n",
    "y_preds = gs_rf.predict(X_test)\n",
    "\n",
    "y_preds[:5]"
   ]
  },
  {
   "cell_type": "markdown",
   "id": "e59c9a7e-482c-4ea3-86bd-cb2a1e59491b",
   "metadata": {},
   "source": [
    "## 6. Evaluation"
   ]
  },
  {
   "cell_type": "markdown",
   "id": "2bdcc42b-2b87-465a-8cb3-960f0e4f72bf",
   "metadata": {},
   "source": [
    "> ### `Cross Validation`"
   ]
  },
  {
   "cell_type": "code",
   "execution_count": 20,
   "id": "6c67f665-5824-4d76-9e1c-4f79a419445e",
   "metadata": {},
   "outputs": [
    {
     "data": {
      "text/plain": [
       "array([0.79888268, 0.81460674, 0.88202247, 0.82022472, 0.84831461])"
      ]
     },
     "execution_count": 20,
     "metadata": {},
     "output_type": "execute_result"
    }
   ],
   "source": [
    "from sklearn.model_selection import cross_val_score\n",
    "\n",
    "val_score = cross_val_score(gs_rf, train_data_encoded, y_train)\n",
    "\n",
    "val_score"
   ]
  },
  {
   "cell_type": "code",
   "execution_count": 21,
   "id": "97fe85de-99b2-4b77-b135-da81a7829530",
   "metadata": {},
   "outputs": [
    {
     "data": {
      "text/plain": [
       "0.8328102441780176"
      ]
     },
     "execution_count": 21,
     "metadata": {},
     "output_type": "execute_result"
    }
   ],
   "source": [
    "avg_val_score = np.mean(val_score)\n",
    "\n",
    "avg_val_score"
   ]
  },
  {
   "cell_type": "code",
   "execution_count": 22,
   "id": "8758c800-62fa-41cd-b4d5-951e1c9a07b1",
   "metadata": {},
   "outputs": [
    {
     "name": "stdout",
     "output_type": "stream",
     "text": [
      "\n",
      "Accuracy score: 84.07% \n",
      "Cross-Validation score: 83.28%\n",
      "\n"
     ]
    }
   ],
   "source": [
    "print(f'\\nAccuracy score: {gs_rf.best_score_*100:.2f}% \\nCross-Validation score: {avg_val_score*100:.2f}%\\n')"
   ]
  },
  {
   "cell_type": "markdown",
   "id": "6b07b722-dfa1-4304-b0d8-13607b5ce708",
   "metadata": {},
   "source": [
    "The baseline Random Forest Classifier yields an accuracy score of approx. `84%`.\n",
    "\n",
    "The model performs at an average cross-validated accuracy score of approx `83.2%` across 5 folds. \n",
    "\n",
    "This demonstrates the model's effectiveness across different subsets of the data, confirming its stability and reliability in predicting the survival rate of passengers in the Titanic dataset."
   ]
  },
  {
   "cell_type": "markdown",
   "id": "80b81c35-1d3e-48bd-bb00-18f061a7f727",
   "metadata": {},
   "source": [
    "> ### `ROC Curve` and `AUC Score`"
   ]
  },
  {
   "cell_type": "code",
   "execution_count": 23,
   "id": "1a0e7209-459d-4fe9-84e9-77999ab3ce8a",
   "metadata": {},
   "outputs": [
    {
     "data": {
      "text/plain": [
       "array([[0.89651406, 0.10348594],\n",
       "       [0.69059863, 0.30940137],\n",
       "       [0.73093348, 0.26906652],\n",
       "       [0.62853137, 0.37146863],\n",
       "       [0.49055737, 0.50944263],\n",
       "       [0.85050071, 0.14949929],\n",
       "       [0.77296131, 0.22703869],\n",
       "       [0.87504037, 0.12495963],\n",
       "       [0.20236188, 0.79763812],\n",
       "       [0.93549452, 0.06450548]])"
      ]
     },
     "execution_count": 23,
     "metadata": {},
     "output_type": "execute_result"
    }
   ],
   "source": [
    "# Making predictions with predict_proba() to get prediction probabilities\n",
    "y_preds_proba = gs_rf.predict_proba(X_test)\n",
    "\n",
    "y_preds_proba[:10]"
   ]
  },
  {
   "cell_type": "code",
   "execution_count": 24,
   "id": "4f46e6af-f0b1-4ba0-9abf-cc08276a04cf",
   "metadata": {},
   "outputs": [
    {
     "data": {
      "text/plain": [
       "array([0.10348594, 0.30940137, 0.26906652, 0.37146863, 0.50944263,\n",
       "       0.14949929, 0.22703869, 0.12495963, 0.79763812, 0.06450548])"
      ]
     },
     "execution_count": 24,
     "metadata": {},
     "output_type": "execute_result"
    }
   ],
   "source": [
    "# Getting positive predicted values\n",
    "y_preds_proba_positive = y_preds_proba[:, 1]\n",
    "\n",
    "y_preds_proba_positive[:10]"
   ]
  },
  {
   "cell_type": "code",
   "execution_count": 25,
   "id": "11a03953-b9a2-490c-8383-45ef052b0378",
   "metadata": {},
   "outputs": [],
   "source": [
    "# Calculating FPR (False-Positive Rates), TPR (True-Positive Rates), and Thresholds\n",
    "from sklearn.metrics import roc_curve\n",
    "from sklearn.metrics import roc_auc_score\n",
    "\n",
    "fpr, tpr, thresholds = roc_curve(true_labels, y_preds_proba_positive)"
   ]
  },
  {
   "cell_type": "code",
   "execution_count": 26,
   "id": "8190819a-da74-4f96-a8c0-74cb87969f7d",
   "metadata": {},
   "outputs": [
    {
     "data": {
      "text/plain": [
       "array([0., 0., 0., 0., 0., 0., 0., 0., 0., 0.])"
      ]
     },
     "execution_count": 26,
     "metadata": {},
     "output_type": "execute_result"
    }
   ],
   "source": [
    "fpr[:10]"
   ]
  },
  {
   "cell_type": "code",
   "execution_count": 27,
   "id": "56bc1d4e-4d43-430c-8695-0eab54bc7f5a",
   "metadata": {},
   "outputs": [
    {
     "data": {
      "image/png": "[encoded data removed]",
      "text/plain": [
       "<Figure size 800x500 with 1 Axes>"
      ]
     },
     "metadata": {},
     "output_type": "display_data"
    }
   ],
   "source": [
    "# Plot ROC curve\n",
    "fig, ax = plt.subplots(figsize=(8, 5))\n",
    "\n",
    "ax.plot(fpr,\n",
    "        tpr,\n",
    "        color='orange',\n",
    "        label='ROC curve')\n",
    "ax.plot([0, 1],\n",
    "        [0, 1],\n",
    "        color='darkblue',\n",
    "        linestyle='--',\n",
    "        label='Baseline (50/50)')\n",
    "\n",
    "ax.set_xlabel('False Positive Rates (FPR)')\n",
    "ax.set_ylabel('True Positive Rates (TRP)')\n",
    "\n",
    "ax.legend()\n",
    "ax.grid(True,\n",
    "        alpha=0.5)\n",
    "ax.set_title('Receiver Operating Characteristic Curves (ROC)',\n",
    "             fontsize=14,\n",
    "             fontweight='bold',\n",
    "             y=1.02);"
   ]
  },
  {
   "cell_type": "code",
   "execution_count": 28,
   "id": "c3e282fa-75cb-40ff-85c9-1a547f5ff070",
   "metadata": {},
   "outputs": [
    {
     "name": "stdout",
     "output_type": "stream",
     "text": [
      "\n",
      "AUC score: 0.92\n",
      "\n"
     ]
    }
   ],
   "source": [
    "# Calculating AUC (Area under Curve)\n",
    "auc_score = roc_auc_score(true_labels, y_preds_proba_positive)\n",
    "\n",
    "print(f'\\nAUC score: {auc_score:.2f}\\n')"
   ]
  },
  {
   "cell_type": "markdown",
   "id": "ba177598-09cc-4478-b5a2-93b80c882f9c",
   "metadata": {},
   "source": [
    "The <b>ROC Curve</b> plot shows a high proportion of True Positive rates versus low False Positive rates with an <b>AUC score</b> of `0.92`, reflecting the model's strong performance and ability in distinguishing between the survivors and non-survivors classes. "
   ]
  },
  {
   "cell_type": "markdown",
   "id": "61f63ea6-7fef-4547-a1a0-27141745bf9d",
   "metadata": {},
   "source": [
    "> ### `Confusion Matrix`"
   ]
  },
  {
   "cell_type": "code",
   "execution_count": 29,
   "id": "0c90c08c-15f6-42c3-84f7-8fe2a31c1302",
   "metadata": {},
   "outputs": [
    {
     "data": {
      "text/plain": [
       "array([[248,  18],\n",
       "       [ 33, 119]], dtype=int64)"
      ]
     },
     "execution_count": 29,
     "metadata": {},
     "output_type": "execute_result"
    }
   ],
   "source": [
    "from sklearn.metrics import confusion_matrix\n",
    "\n",
    "conf_matrix = confusion_matrix(true_labels, y_preds)\n",
    "\n",
    "conf_matrix"
   ]
  },
  {
   "cell_type": "code",
   "execution_count": 30,
   "id": "bc52ef0d-4292-405e-9388-04110565d370",
   "metadata": {},
   "outputs": [
    {
     "data": {
      "text/html": [
       "<div>\n",
       "<style scoped>\n",
       "    .dataframe tbody tr th:only-of-type {\n",
       "        vertical-align: middle;\n",
       "    }\n",
       "\n",
       "    .dataframe tbody tr th {\n",
       "        vertical-align: top;\n",
       "    }\n",
       "\n",
       "    .dataframe thead th {\n",
       "        text-align: right;\n",
       "    }\n",
       "</style>\n",
       "<table border=\"1\" class=\"dataframe\">\n",
       "  <thead>\n",
       "    <tr style=\"text-align: right;\">\n",
       "      <th>Predicted labels</th>\n",
       "      <th>0</th>\n",
       "      <th>1</th>\n",
       "    </tr>\n",
       "    <tr>\n",
       "      <th>True labels</th>\n",
       "      <th></th>\n",
       "      <th></th>\n",
       "    </tr>\n",
       "  </thead>\n",
       "  <tbody>\n",
       "    <tr>\n",
       "      <th>0</th>\n",
       "      <td>248</td>\n",
       "      <td>18</td>\n",
       "    </tr>\n",
       "    <tr>\n",
       "      <th>1</th>\n",
       "      <td>33</td>\n",
       "      <td>119</td>\n",
       "    </tr>\n",
       "  </tbody>\n",
       "</table>\n",
       "</div>"
      ],
      "text/plain": [
       "Predicted labels    0    1\n",
       "True labels               \n",
       "0                 248   18\n",
       "1                  33  119"
      ]
     },
     "execution_count": 30,
     "metadata": {},
     "output_type": "execute_result"
    }
   ],
   "source": [
    "pd.crosstab(true_labels, y_preds,\n",
    "            rownames=['True labels'],\n",
    "            colnames=['Predicted labels'])"
   ]
  },
  {
   "cell_type": "code",
   "execution_count": 31,
   "id": "5a0e1206-9617-4667-ab15-ad2164628d6b",
   "metadata": {},
   "outputs": [
    {
     "data": {
      "text/plain": [
       "418"
      ]
     },
     "execution_count": 31,
     "metadata": {},
     "output_type": "execute_result"
    }
   ],
   "source": [
    "np.sum(conf_matrix[:])"
   ]
  },
  {
   "cell_type": "code",
   "execution_count": 32,
   "id": "dd6e2c3d-47b3-48b1-b368-5f6d5335a137",
   "metadata": {},
   "outputs": [
    {
     "data": {
      "image/png": "[encoded data removed]",
      "text/plain": [
       "<Figure size 640x480 with 2 Axes>"
      ]
     },
     "metadata": {},
     "output_type": "display_data"
    }
   ],
   "source": [
    "from sklearn.metrics import ConfusionMatrixDisplay\n",
    "\n",
    "ConfusionMatrixDisplay.from_estimator(gs_rf, X_test, true_labels);"
   ]
  },
  {
   "cell_type": "markdown",
   "id": "6b8223e4-15ca-43c6-8e7e-2e4380e3cb97",
   "metadata": {},
   "source": [
    "The <b>confusion matrix</b> further demonstrates the model's ability in correctly identifying the majority of the actual survivors and non-survivors, with relatively low misclassification rates, indicating good predictive performance."
   ]
  },
  {
   "cell_type": "markdown",
   "id": "7ca5dba9-9137-4ccd-8f07-ed86c5814b07",
   "metadata": {},
   "source": [
    "> ### `Classification Report`"
   ]
  },
  {
   "cell_type": "code",
   "execution_count": 33,
   "id": "f837b618-a251-4d1b-be49-140b449f0cbc",
   "metadata": {},
   "outputs": [
    {
     "name": "stdout",
     "output_type": "stream",
     "text": [
      "              precision    recall  f1-score   support\n",
      "\n",
      "           0       0.88      0.93      0.91       266\n",
      "           1       0.87      0.78      0.82       152\n",
      "\n",
      "    accuracy                           0.88       418\n",
      "   macro avg       0.88      0.86      0.87       418\n",
      "weighted avg       0.88      0.88      0.88       418\n",
      "\n"
     ]
    }
   ],
   "source": [
    "from sklearn.metrics import classification_report\n",
    "\n",
    "print(classification_report(true_labels, y_preds))"
   ]
  },
  {
   "cell_type": "markdown",
   "id": "74058c85-e6e2-4fd6-b9f1-31f38c05c7c0",
   "metadata": {},
   "source": [
    "The <b>classification report</b> provides a comprehensive evaluation of the model's performance with regards to <u>data balance</u>.\n",
    "\n",
    "Here, we see that the model performs much better in predicting non-survivors class than survivors, which can be attributed to class imbalance as shown by the data count for each class (support) — `266` non-survivors and `152` survivors. Despite this, the model still maintains good overall precision and recall across both classes, further demonstrating its robustness and effectivness in predicting passengers' survival rate."
   ]
  },
  {
   "cell_type": "markdown",
   "id": "5a13cb52-2f63-46f1-adf4-15b96cc02d96",
   "metadata": {},
   "source": [
    "## 6. Feature Importances"
   ]
  },
  {
   "cell_type": "code",
   "execution_count": 34,
   "id": "28ffb556-7447-48fd-9524-ba94afa3f6b3",
   "metadata": {},
   "outputs": [
    {
     "data": {
      "text/plain": [
       "{'max_depth': 30,\n",
       " 'max_features': None,\n",
       " 'min_samples_leaf': 1,\n",
       " 'min_samples_split': 10,\n",
       " 'n_estimators': 200}"
      ]
     },
     "execution_count": 34,
     "metadata": {},
     "output_type": "execute_result"
    }
   ],
   "source": [
    "# Getting GridSearchCV best parameters\n",
    "gs_rf.best_params_"
   ]
  },
  {
   "cell_type": "code",
   "execution_count": 35,
   "id": "6ab62534-e312-4189-bd02-af58f12cb87e",
   "metadata": {},
   "outputs": [
    {
     "data": {
      "text/plain": [
       "array([0.02311819, 0.002936  , 0.11052619, 0.19019956, 0.2326836 ,\n",
       "       0.00827405, 0.00359655, 0.0139953 , 0.16540097, 0.04028894,\n",
       "       0.00985686, 0.19912378])"
      ]
     },
     "execution_count": 35,
     "metadata": {},
     "output_type": "execute_result"
    }
   ],
   "source": [
    "# Instantiating a new model with best hyperparameters\n",
    "gs_clf = RandomForestClassifier(max_depth=None,\n",
    "                                max_features=None,\n",
    "                                min_samples_leaf=4,\n",
    "                                min_samples_split=10,\n",
    "                                n_estimators= 300).fit(train_data_encoded, y_train)\n",
    "\n",
    "# Calculating feature importances\n",
    "gs_clf.feature_importances_"
   ]
  },
  {
   "cell_type": "code",
   "execution_count": 36,
   "id": "6157a656-002b-43c6-88cc-52225aae3fdc",
   "metadata": {},
   "outputs": [
    {
     "data": {
      "text/plain": [
       "Index(['Pclass', 'Sex', 'Age', 'SibSp', 'Parch', 'Fare', 'Embarked'], dtype='object')"
      ]
     },
     "execution_count": 36,
     "metadata": {},
     "output_type": "execute_result"
    }
   ],
   "source": [
    "X_train.columns"
   ]
  },
  {
   "cell_type": "markdown",
   "id": "7fc36103-965b-4f6a-abd6-7d204ba20805",
   "metadata": {},
   "source": [
    "We can see that the shape of the data doesn't match the original columns order. This is because of the categorical data encoding of the `Pclass`, `Sex` and `Embarked` features.\n",
    "\n",
    "To correctly map the importances with the original features, we need to reconstruct these categorical columns. One way to do that, is to sum the importances for each of the categorical feature in <u>the correct order</u>.\n",
    "\n",
    "It's important to note that the order of columns may have changed after data encoding and transformation. The reason being that `ColumnTransformer` function applies transformation in the <b>specified order</b> (`cat_features = ['Pclass', 'Sex', 'Embarked']`) and in <b>alphabetical order</b> of categories before appending the remaining features with `remainder='passthrough'`."
   ]
  },
  {
   "cell_type": "code",
   "execution_count": 37,
   "id": "1cb374ca-e38b-4356-a52a-2b856b8748cd",
   "metadata": {},
   "outputs": [
    {
     "data": {
      "text/plain": [
       "{'Pclass_1': 0.023118189830588786,\n",
       " 'Pclass_2': 0.0029360026066258147,\n",
       " 'Pclass_3': 0.11052619269978273,\n",
       " 'Sex_female': 0.1901995569103887,\n",
       " 'Sex_male': 0.2326836011135389,\n",
       " 'Embarked_C': 0.00827405419280283,\n",
       " 'Embarked_Q': 0.0035965482579915393,\n",
       " 'Embarked_S': 0.013995300907659299,\n",
       " 'Age': 0.1654009706021546,\n",
       " 'SibSp': 0.04028894188224738,\n",
       " 'Parch': 0.009856860850458135,\n",
       " 'Fare': 0.19912378014576135}"
      ]
     },
     "execution_count": 37,
     "metadata": {},
     "output_type": "execute_result"
    }
   ],
   "source": [
    "# Mapping importances to their corresponding (encoded) feature names.\n",
    "encoded_feature_names = ['Pclass_1', 'Pclass_2', 'Pclass_3', 'Sex_female', 'Sex_male',\n",
    "                         'Embarked_C', 'Embarked_Q', 'Embarked_S', 'Age', 'SibSp',\n",
    "                         'Parch', 'Fare']\n",
    "\n",
    "feature_importances = dict(zip(encoded_feature_names, gs_clf.feature_importances_))\n",
    "\n",
    "feature_importances"
   ]
  },
  {
   "cell_type": "code",
   "execution_count": 38,
   "id": "17e6efbd-6722-47cc-8e2a-1c27c00185a4",
   "metadata": {},
   "outputs": [
    {
     "data": {
      "text/html": [
       "<div>\n",
       "<style scoped>\n",
       "    .dataframe tbody tr th:only-of-type {\n",
       "        vertical-align: middle;\n",
       "    }\n",
       "\n",
       "    .dataframe tbody tr th {\n",
       "        vertical-align: top;\n",
       "    }\n",
       "\n",
       "    .dataframe thead th {\n",
       "        text-align: right;\n",
       "    }\n",
       "</style>\n",
       "<table border=\"1\" class=\"dataframe\">\n",
       "  <thead>\n",
       "    <tr style=\"text-align: right;\">\n",
       "      <th></th>\n",
       "      <th>Importance</th>\n",
       "    </tr>\n",
       "  </thead>\n",
       "  <tbody>\n",
       "    <tr>\n",
       "      <th>Pclass</th>\n",
       "      <td>0.136580</td>\n",
       "    </tr>\n",
       "    <tr>\n",
       "      <th>Sex</th>\n",
       "      <td>0.422883</td>\n",
       "    </tr>\n",
       "    <tr>\n",
       "      <th>Embarked</th>\n",
       "      <td>0.025866</td>\n",
       "    </tr>\n",
       "    <tr>\n",
       "      <th>Age</th>\n",
       "      <td>0.165401</td>\n",
       "    </tr>\n",
       "    <tr>\n",
       "      <th>SibSp</th>\n",
       "      <td>0.040289</td>\n",
       "    </tr>\n",
       "    <tr>\n",
       "      <th>Parch</th>\n",
       "      <td>0.009857</td>\n",
       "    </tr>\n",
       "    <tr>\n",
       "      <th>Fare</th>\n",
       "      <td>0.199124</td>\n",
       "    </tr>\n",
       "  </tbody>\n",
       "</table>\n",
       "</div>"
      ],
      "text/plain": [
       "          Importance\n",
       "Pclass      0.136580\n",
       "Sex         0.422883\n",
       "Embarked    0.025866\n",
       "Age         0.165401\n",
       "SibSp       0.040289\n",
       "Parch       0.009857\n",
       "Fare        0.199124"
      ]
     },
     "execution_count": 38,
     "metadata": {},
     "output_type": "execute_result"
    }
   ],
   "source": [
    "# Reconstructing categorical columns to their original format\n",
    "reconstruced_features = {'Pclass': feature_importances['Pclass_1'] + feature_importances['Pclass_2'] + feature_importances['Pclass_3'],\n",
    "                         'Sex': feature_importances['Sex_female'] + feature_importances['Sex_male'],\n",
    "                         'Embarked': feature_importances['Embarked_C'] + feature_importances['Embarked_Q'] + feature_importances['Embarked_S'],\n",
    "                         'Age': feature_importances['Age'],\n",
    "                         'SibSp': feature_importances['SibSp'],\n",
    "                         'Parch': feature_importances['Parch'],\n",
    "                         'Fare': feature_importances['Fare']}\n",
    "\n",
    "df_coeff = pd.DataFrame(reconstruced_features,\n",
    "                        index=['Importance']).T\n",
    "\n",
    "df_coeff"
   ]
  },
  {
   "cell_type": "code",
   "execution_count": 39,
   "id": "571589d8-498e-4fc1-9a7a-07866c26b94f",
   "metadata": {},
   "outputs": [
    {
     "data": {
      "image/png": "[encoded data removed]",
      "text/plain": [
       "<Figure size 800x500 with 1 Axes>"
      ]
     },
     "metadata": {},
     "output_type": "display_data"
    }
   ],
   "source": [
    "# Visualizing feature importances\n",
    "fig, ax = plt.subplots(figsize=(8, 5))\n",
    "\n",
    "ax.bar(df_coeff.index,\n",
    "       df_coeff['Importance'],\n",
    "       edgecolor='black',\n",
    "       linewidth=0.5)\n",
    "\n",
    "ax.yaxis.grid(True,\n",
    "              alpha=0.2)\n",
    "ax.set_axisbelow(True)\n",
    "\n",
    "ax.set_ylabel('Coefficient')\n",
    "\n",
    "ax.set_title('Feature Importances',\n",
    "             y=1.02,\n",
    "             fontsize=14,\n",
    "             fontweight='bold');"
   ]
  },
  {
   "cell_type": "markdown",
   "id": "794206cb-058d-4a24-b098-53c14fe5260e",
   "metadata": {},
   "source": [
    "The plot demonstrates the <b>feature importances</b> as determined by our Random Forest Classifier model, which highlights the coefficient of each feature in the data as well as its contribution to predicting the target labels.\n",
    "\n",
    "* We can see that `Sex` (gender) is by far the most significant predictor of survivability, where — as we saw in our data exploration, male passengers have a much higher chance to perish than females.\n",
    "* `Fare` is the second most important factor contributing to higher survability rates. As we've seen in our data exploration, high paid fares are associated with higher class passengers (`Pclass`) who have the lowest casulaty rate compared to middle and lower class passengers. \n",
    "* Lastly, `Age` is the third most important factor of survivability, which may suggest that certain age group, particularily children are more likely to survive than other groups."
   ]
  },
  {
   "cell_type": "markdown",
   "id": "95aea5d5-d1bf-46d4-a49a-abdab8426cd5",
   "metadata": {},
   "source": [
    "## 7. Saving & Exporting Model"
   ]
  },
  {
   "cell_type": "code",
   "execution_count": 40,
   "id": "e0fc85f3-4a81-4b36-9777-eaa053e1478a",
   "metadata": {},
   "outputs": [],
   "source": [
    "import pickle\n",
    "\n",
    "pickle.dump(clf, open('baseline_titanic_casualty_model.pkl', 'wb'))"
   ]
  }
 ],
 "metadata": {
  "kernelspec": {
   "display_name": "Python 3 (ipykernel)",
   "language": "python",
   "name": "python3"
  },
  "language_info": {
   "codemirror_mode": {
    "name": "ipython",
    "version": 3
   },
   "file_extension": ".py",
   "mimetype": "text/x-python",
   "name": "python",
   "nbconvert_exporter": "python",
   "pygments_lexer": "ipython3",
   "version": "3.12.2"
  }
 },
 "nbformat": 4,
 "nbformat_minor": 5
}
